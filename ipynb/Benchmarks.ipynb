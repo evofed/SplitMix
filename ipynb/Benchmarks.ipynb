{
 "cells": [
  {
   "cell_type": "code",
   "execution_count": null,
   "id": "selected-subject",
   "metadata": {},
   "outputs": [],
   "source": [
    "import os, sys\n",
    "import torch\n",
    "import pandas as pd\n",
    "import wandb\n",
    "import numpy as np\n",
    "from tqdm.notebook import tqdm\n",
    "import seaborn as sns\n",
    "import matplotlib.pyplot as plt\n",
    "from collections import defaultdict\n",
    "from IPython.display import display\n",
    "from scipy.stats import pearsonr"
   ]
  },
  {
   "cell_type": "code",
   "execution_count": null,
   "id": "ranging-craft",
   "metadata": {},
   "outputs": [],
   "source": [
    "sns.set_style(\"ticks\")\n",
    "cmap = sns.color_palette()\n",
    "sns.set_palette(sns.color_palette())"
   ]
  },
  {
   "cell_type": "code",
   "execution_count": null,
   "id": "owned-taylor",
   "metadata": {},
   "outputs": [],
   "source": [
    "cache_path = '../fig/'\n",
    "if not os.path.exists(cache_path):\n",
    "    os.makedirs(cache_path)"
   ]
  },
  {
   "cell_type": "code",
   "execution_count": null,
   "id": "apparent-treatment",
   "metadata": {},
   "outputs": [],
   "source": [
    "all_dfs = {}"
   ]
  },
  {
   "cell_type": "markdown",
   "id": "black-catalog",
   "metadata": {},
   "source": [
    "## FedAvg"
   ]
  },
  {
   "cell_type": "code",
   "execution_count": null,
   "id": "small-consistency",
   "metadata": {},
   "outputs": [],
   "source": [
    "mode = 'FedAvg'\n",
    "sweep_ids = {\n",
    "    'cifar10 100%': \"jyhong/SplitMix_release/sweeps/d6ua8kbt\",\n",
    "    'cifar10 50%': \"jyhong/SplitMix_release/sweeps/jbn34q4n\",\n",
    "    'cifar10_cniid': \"jyhong/SplitMix_release/sweeps/6ua8jh9x\",\n",
    "    'Digits': \"jyhong/SplitMix_release/sweeps/8g8s7kp4\",\n",
    "    'DomainNet': \"jyhong/SplitMix_release/sweeps/y489wn02\",\n",
    "}"
   ]
  },
  {
   "cell_type": "code",
   "execution_count": null,
   "id": "printable-refrigerator",
   "metadata": {},
   "outputs": [],
   "source": [
    "df_dict = defaultdict(list)\n",
    "cfg_keys = ['width_scale']\n",
    "for name, sweep_id in sweep_ids.items():\n",
    "    api = wandb.Api()\n",
    "    sweep = api.sweep(sweep_id)\n",
    "    for run in sweep.runs:\n",
    "        df_dict['acc'].append(run.summary['avg test acc'])\n",
    "        for k in ['GFLOPs', 'model size (MB)']:\n",
    "            df_dict[k].append(run.summary[k])\n",
    "        for k in cfg_keys:\n",
    "            df_dict[k].append(run.config[k])\n",
    "        df_dict['task'].append(name)\n",
    "df = pd.DataFrame(df_dict)\n",
    "df['mode'] = mode\n",
    "all_dfs[mode] = df\n",
    "# df"
   ]
  },
  {
   "cell_type": "code",
   "execution_count": null,
   "id": "turkish-support",
   "metadata": {},
   "outputs": [],
   "source": [
    "df.set_index(['mode', 'task', 'width_scale']) #.unstack('task') # .reset_index()"
   ]
  },
  {
   "cell_type": "markdown",
   "id": "fitted-exhaust",
   "metadata": {},
   "source": [
    "## SHeteroFL"
   ]
  },
  {
   "cell_type": "code",
   "execution_count": null,
   "id": "copyrighted-blake",
   "metadata": {},
   "outputs": [],
   "source": [
    "mode = 'SHeteroFL'\n",
    "sweep_ids = {\n",
    "    'cifar10 100%': \"jyhong/SplitMix_release/sweeps/13li9grh\",\n",
    "    'cifar10 50%': \"jyhong/SplitMix_release/sweeps/6bbo3mwi\",\n",
    "    'cifar10_cniid': \"jyhong/SplitMix_release/sweeps/fvg0045z\",\n",
    "    'Digits': \"jyhong/SplitMix_release/sweeps/0lh7d73x\",\n",
    "    'DomainNet': \"jyhong/SplitMix_release/sweeps/shs7yw8p\",\n",
    "}"
   ]
  },
  {
   "cell_type": "code",
   "execution_count": null,
   "id": "fatty-alarm",
   "metadata": {},
   "outputs": [],
   "source": [
    "df_dict = defaultdict(list)\n",
    "cfg_keys = ['test_slim_ratio']\n",
    "for name, sweep_id in sweep_ids.items():\n",
    "    api = wandb.Api()\n",
    "    sweep = api.sweep(sweep_id)\n",
    "    for run in sweep.runs:\n",
    "        df_dict['acc'].append(run.summary['avg test acc'])\n",
    "        for k in ['GFLOPs', 'model size (MB)']:\n",
    "            df_dict[k].append(run.summary[k])\n",
    "        for k in cfg_keys:\n",
    "            df_dict[k].append(run.config[k])\n",
    "        df_dict['task'].append(name)\n",
    "df = pd.DataFrame(df_dict)\n",
    "df['mode'] = mode\n",
    "df = df.rename(columns={'test_slim_ratio': 'width_scale'})\n",
    "all_dfs[mode] = df\n",
    "# df"
   ]
  },
  {
   "cell_type": "code",
   "execution_count": null,
   "id": "cleared-invasion",
   "metadata": {},
   "outputs": [],
   "source": [
    "df.set_index(['task', 'width_scale']).unstack('task') # .reset_index()"
   ]
  },
  {
   "cell_type": "markdown",
   "id": "backed-possibility",
   "metadata": {},
   "source": [
    "## SplitMix"
   ]
  },
  {
   "cell_type": "code",
   "execution_count": null,
   "id": "failing-andorra",
   "metadata": {},
   "outputs": [],
   "source": [
    "mode = 'SplitMix'\n",
    "sweep_ids = {\n",
    "    'cifar10 100%': \"jyhong/SplitMix_release/sweeps/fjt4nczs\",  # \"jyhong/SplitMix_release/sweeps/rio0lk4l\",\n",
    "    'cifar10 50%': \"jyhong/SplitMix_release/sweeps/y6e7r33c\",\n",
    "    'cifar10_cniid': \"jyhong/SplitMix_release/sweeps/g71nb2yv\",\n",
    "    'Digits': \"jyhong/SplitMix_release/sweeps/3wr7bsxb\",\n",
    "    'DomainNet': \"jyhong/SplitMix_release/sweeps/2kxrau5h\",\n",
    "}"
   ]
  },
  {
   "cell_type": "code",
   "execution_count": null,
   "id": "controlling-graduation",
   "metadata": {},
   "outputs": [],
   "source": [
    "df_dict = defaultdict(list)\n",
    "cfg_keys = ['test_slim_ratio']\n",
    "for name, sweep_id in sweep_ids.items():\n",
    "    api = wandb.Api()\n",
    "    sweep = api.sweep(sweep_id)\n",
    "    for run in sweep.runs:\n",
    "        df_dict['acc'].append(run.summary['avg test acc'])\n",
    "        for k in ['GFLOPs', 'model size (MB)']:\n",
    "            df_dict[k].append(run.summary[k])\n",
    "        for k in cfg_keys:\n",
    "            df_dict[k].append(run.config[k])\n",
    "        df_dict['task'].append(name)\n",
    "df = pd.DataFrame(df_dict)\n",
    "df['mode'] = mode\n",
    "df = df.rename(columns={'test_slim_ratio': 'width_scale'})\n",
    "all_dfs[mode] = df\n",
    "# df"
   ]
  },
  {
   "cell_type": "code",
   "execution_count": null,
   "id": "electoral-advance",
   "metadata": {},
   "outputs": [],
   "source": [
    "df.set_index(['task', 'width_scale']).unstack('task') # .reset_index()"
   ]
  },
  {
   "cell_type": "markdown",
   "id": "inside-black",
   "metadata": {},
   "source": [
    "## Aggregate"
   ]
  },
  {
   "cell_type": "code",
   "execution_count": null,
   "id": "registered-sitting",
   "metadata": {},
   "outputs": [],
   "source": [
    "df = pd.concat([d for _, d in all_dfs.items()])"
   ]
  },
  {
   "cell_type": "code",
   "execution_count": null,
   "id": "gorgeous-works",
   "metadata": {},
   "outputs": [],
   "source": [
    "df_ = df.set_index(['task', 'mode', 'width_scale']).unstack(['mode']).reset_index() #.swaplevel(axis=1)\n",
    "# df_"
   ]
  },
  {
   "cell_type": "code",
   "execution_count": null,
   "id": "alpine-racing",
   "metadata": {},
   "outputs": [],
   "source": [
    "# df_ = df.set_index(['task', 'mode', 'width_scale']).unstack(['mode'])#.swaplevel(axis=1)\n",
    "metrics = ['acc', 'GFLOPs', 'model size (MB)']\n",
    "algs = ['FedAvg', 'SHeteroFL', 'SplitMix']\n",
    "task_names = {'Digits': r'Digits feature non-\\emph{i.i.d} FL', 'DomainNet': r'DomainNet feature non-\\emph{i.i.d} FL',\n",
    "              'cifar10 100%': r'CIFAR10 \\emph{i.i.d} FL (100\\%)', \n",
    "              'cifar10 50%': r'CIFAR10 \\emph{i.i.d} FL (50\\%)',\n",
    "              'cifar10_cniid': r'CIFAR10 class non-\\emph{i.i.d} FL',}\n",
    "def greytext(s):\n",
    "    return r\"\\greytext{\"+s+\"}\"\n",
    "def textbf(s):\n",
    "    return r\"\\textbf{\"+s+\"}\"\n",
    "def cond_bold(s, metric):\n",
    "    return s if d[(metric, alg)] != bold_dict[metric] else textbf(s)\n",
    "for task in df_[('task', '')].unique():\n",
    "    df__ = df_[df_[('task', '')] == task]\n",
    "    print('\\midrule')\n",
    "    print(\" \"*17 + r\"& \\multicolumn{9}{c}{\" + task_names[task] + r\"} \\\\\")\n",
    "    for row in range(len(df__)):\n",
    "        d = df__.iloc[row]\n",
    "        info = []\n",
    "        ws = r\"$\\times \"+ f\"{d[('width_scale', '')]:g}$\"\n",
    "        info.append(f\"{ws:<15s}\")\n",
    "        bold_dict = {}\n",
    "        for alg in algs:\n",
    "            if alg == 'FedAvg' and d[('width_scale', '')] > 0.125:\n",
    "                continue\n",
    "            if 'acc' not in bold_dict or d[('acc', alg)] > bold_dict['acc']:\n",
    "                bold_dict['acc'] = d[('acc', alg)]\n",
    "            if 'GFLOPs' not in bold_dict or d[('GFLOPs', alg)] < bold_dict['GFLOPs']:\n",
    "                bold_dict['GFLOPs'] = d[('GFLOPs', alg)]\n",
    "            if 'model size (MB)' not in bold_dict or d[('model size (MB)', alg)] < bold_dict['model size (MB)']:\n",
    "                bold_dict['model size (MB)'] = d[('model size (MB)', alg)]\n",
    "        for alg in algs:\n",
    "            if alg == 'FedAvg' and d[('width_scale', '')] > 0.125:\n",
    "                info.append(\"{:10s}\".format(greytext(f\"{d[('acc', alg)]*100:.1f}\\%\")))\n",
    "                info.append(\"{:10s}\".format(greytext(f\"{d[('GFLOPs', alg)]*100:.1f}M\")))\n",
    "                info.append(\"{:14s}\".format(greytext(f\"{d[('model size (MB)', alg)]:.1f}M\")))\n",
    "            else:\n",
    "                info.append(\"{:5s}\".format(cond_bold(f\"{d[('acc', alg)]*100:.1f}\\%\", 'acc')))\n",
    "                if d[('width_scale', '')] > 0.125:\n",
    "                    info.append(\"{:5s}\".format(cond_bold(f\"{d[('GFLOPs', alg)]*100:.1f}M\", 'GFLOPs')))\n",
    "                    info.append(\"{:5s}\".format(cond_bold(f\"{d[('model size (MB)', alg)]:.1f}M\", 'model size (MB)')))\n",
    "                else:\n",
    "                    info.append(\"{:5s}\".format(f\"{d[('GFLOPs', alg)]*100:.1f}M\", 'GFLOPs'))\n",
    "                    info.append(\"{:5s}\".format(f\"{d[('model size (MB)', alg)]:.1f}M\", 'model size (MB)'))\n",
    "                \n",
    "        print(f\"\", ' & '.join(info), r\"\\\\\")"
   ]
  },
  {
   "cell_type": "code",
   "execution_count": null,
   "id": "attended-individual",
   "metadata": {},
   "outputs": [],
   "source": []
  }
 ],
 "metadata": {
  "kernelspec": {
   "display_name": "Python 3",
   "language": "python",
   "name": "python3"
  },
  "language_info": {
   "codemirror_mode": {
    "name": "ipython",
    "version": 3
   },
   "file_extension": ".py",
   "mimetype": "text/x-python",
   "name": "python",
   "nbconvert_exporter": "python",
   "pygments_lexer": "ipython3",
   "version": "3.7.5"
  }
 },
 "nbformat": 4,
 "nbformat_minor": 5
}
