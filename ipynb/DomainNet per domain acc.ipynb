{
 "cells": [
  {
   "cell_type": "code",
   "execution_count": null,
   "id": "indie-dylan",
   "metadata": {},
   "outputs": [],
   "source": [
    "import os, sys\n",
    "import pandas as pd\n",
    "import wandb\n",
    "import numpy as np\n",
    "from tqdm.notebook import tqdm\n",
    "import seaborn as sns\n",
    "import matplotlib.pyplot as plt\n",
    "from collections import defaultdict\n",
    "from IPython.display import display"
   ]
  },
  {
   "cell_type": "code",
   "execution_count": null,
   "id": "transparent-reply",
   "metadata": {},
   "outputs": [],
   "source": [
    "sns.set_style(\"ticks\")\n",
    "cmap = sns.color_palette()\n",
    "sns.set_palette(sns.color_palette())"
   ]
  },
  {
   "cell_type": "code",
   "execution_count": null,
   "id": "signal-genesis",
   "metadata": {},
   "outputs": [],
   "source": [
    "cache_path = './fig/flops_acc_curve'\n",
    "if not os.path.exists(cache_path):\n",
    "    os.makedirs(cache_path)"
   ]
  },
  {
   "cell_type": "code",
   "execution_count": null,
   "id": "inclusive-myrtle",
   "metadata": {},
   "outputs": [],
   "source": [
    "data = 'DomainNet'\n",
    "domains = ['clipart', 'infograph', 'painting', 'quickdraw', 'real', 'sketch']\n",
    "\n",
    "sweep_dict = {\n",
    "    'FedAvg': \"jyhong/SplitMix_release/sweeps/y489wn02\",\n",
    "    'SHeteroFL': \"jyhong/SplitMix_release/sweeps/shs7yw8p\",\n",
    "    'SplitMix': \"jyhong/SplitMix_release/sweeps/2kxrau5h\",\n",
    "}"
   ]
  },
  {
   "cell_type": "code",
   "execution_count": null,
   "id": "native-prevention",
   "metadata": {},
   "outputs": [],
   "source": [
    "def fetch_config_summary(runs, config_keys, summary_keys):\n",
    "    df_dict = defaultdict(list)\n",
    "    for run in runs:\n",
    "        if run.state != 'finished':\n",
    "            print(\"WARN: run not finished yet\")\n",
    "        history_len = 0\n",
    "        missing_sum_key = []\n",
    "        for k in summary_keys:\n",
    "            if k in run.summary:\n",
    "                h = run.summary[k]\n",
    "                df_dict[k].append(h)\n",
    "            else:\n",
    "                missing_sum_key.append(k)\n",
    "                break\n",
    "        if len(missing_sum_key) > 0:\n",
    "            print(f\"missing key: {missing_sum_key}\")\n",
    "            continue\n",
    "        for k in run.summary.keys():\n",
    "            if k.endswith('clean test acc'):\n",
    "                df_dict[k].append(run.summary[k])\n",
    "        for k in config_keys:\n",
    "            df_dict[k].append(run.config[k])\n",
    "    return df_dict"
   ]
  },
  {
   "cell_type": "code",
   "execution_count": null,
   "id": "executive-chess",
   "metadata": {},
   "outputs": [],
   "source": [
    "def rearrange_by_domain(df, reduce='mean', drop_keys=['slim_ratio', 'avg test acc']):\n",
    "    df_ = df.drop(drop_keys, axis=1).set_index(['mode', 'width']).stack()\n",
    "    df_ = df_.reset_index().rename(columns={'level_2': 'domain', 0: 'acc mean'})\n",
    "    display(df_)\n",
    "    # df_['client'] = df_['domain'].apply(lambda n: int(n[2]))\n",
    "    df_['domain'] = df_['domain'].apply(lambda n: domains[int(n[0])])\n",
    "    df_ = df_.groupby(['mode', 'width', 'domain'])\n",
    "    if reduce == 'mean':\n",
    "        df_ = df_.mean().unstack('domain')\n",
    "    return df_"
   ]
  },
  {
   "cell_type": "code",
   "execution_count": null,
   "id": "elect-consciousness",
   "metadata": {},
   "outputs": [],
   "source": [
    "all_df = {}\n",
    "all_df_diff = {}"
   ]
  },
  {
   "cell_type": "code",
   "execution_count": null,
   "id": "defensive-adobe",
   "metadata": {},
   "outputs": [],
   "source": [
    "mode = 'FedAvg'\n",
    "api = wandb.Api()\n",
    "sweep = api.sweep(sweep_dict[mode])"
   ]
  },
  {
   "cell_type": "code",
   "execution_count": null,
   "id": "arbitrary-permit",
   "metadata": {},
   "outputs": [],
   "source": [
    "df_dict = fetch_config_summary(\n",
    "    sweep.runs,\n",
    "    config_keys = ['width_scale'], \n",
    "    summary_keys = [] # ['avg test acc']\n",
    ")\n",
    "df = pd.DataFrame(df_dict)\n",
    "df['mode'] = mode\n",
    "# df['slim_ratio'] = df['slim_ratio'] * 100\n",
    "# df['width'] = df['width_scale']\n",
    "df = df.rename(columns={'width_scale': 'width'})\n",
    "\n",
    "df = rearrange_by_domain(df, drop_keys=[])\n",
    "all_df[mode] = df\n",
    "# agg_df_dict[mode] = df  # [df['slim_ratio'] == 1.0]\n",
    "df"
   ]
  },
  {
   "cell_type": "code",
   "execution_count": null,
   "id": "guilty-willow",
   "metadata": {},
   "outputs": [],
   "source": [
    "mode = 'SHeteroFL'\n",
    "api = wandb.Api()\n",
    "sweep = api.sweep(sweep_dict[mode])"
   ]
  },
  {
   "cell_type": "code",
   "execution_count": null,
   "id": "moral-taiwan",
   "metadata": {},
   "outputs": [],
   "source": [
    "df_dict = fetch_config_summary(\n",
    "    sweep.runs,\n",
    "    config_keys = ['test_slim_ratio'],  #, 'slim_sch'], \n",
    "    summary_keys = []\n",
    ")\n",
    "df = pd.DataFrame(df_dict)\n",
    "# df['test_slim_ratio'] = df['test_slim_ratio'] * 100\n",
    "df['width'] = df['test_slim_ratio']\n",
    "\n",
    "# df['mode'] = mode\n",
    "# agg_df_dict[mode] df = df[df['slim_sch'] == 'group_size']\n",
    "\n",
    "# mode = 'S' + mode\n",
    "df['mode'] = mode\n",
    "# df = df[df['slim_sch'] == 'group_slimmable']\n",
    "df = rearrange_by_domain(df, drop_keys=['test_slim_ratio',])\n",
    "# agg_df_dict['S'+mode]  = df\n",
    "all_df[mode] = df\n",
    "all_df_diff[mode] = (all_df['FedAvg'].droplevel(0, axis=0).droplevel(0, axis=1) - df.droplevel(0, axis=0).droplevel(0, axis=1)) * 100\n",
    "df"
   ]
  },
  {
   "cell_type": "code",
   "execution_count": null,
   "id": "sustainable-backing",
   "metadata": {},
   "outputs": [],
   "source": [
    "mode = 'SplitMix'\n",
    "api = wandb.Api()\n",
    "sweep = api.sweep(sweep_dict[mode])"
   ]
  },
  {
   "cell_type": "code",
   "execution_count": null,
   "id": "extended-portfolio",
   "metadata": {},
   "outputs": [],
   "source": [
    "df_dict = fetch_config_summary(\n",
    "    sweep.runs,\n",
    "    config_keys = ['test_slim_ratio',], \n",
    "    summary_keys = []\n",
    ")\n",
    "df = pd.DataFrame(df_dict)\n",
    "df['width'] = df['test_slim_ratio']\n",
    "\n",
    "df['mode'] = mode\n",
    "df = rearrange_by_domain(df, drop_keys=['test_slim_ratio',])\n",
    "all_df[mode] = df\n",
    "all_df_diff[mode] = (all_df['FedAvg'].droplevel(0, axis=0).droplevel(0, axis=1) - df.droplevel(0, axis=0).droplevel(0, axis=1)) * 100\n",
    "df"
   ]
  },
  {
   "cell_type": "code",
   "execution_count": null,
   "id": "complete-vaccine",
   "metadata": {},
   "outputs": [],
   "source": [
    "mode = 'SplitMix'\n",
    "fig, ax = plt.subplots(1, 1, figsize=(4,3))\n",
    "sns.heatmap(all_df_diff[mode], vmin=0., vmax=30., annot=True, fmt='.1f', cbar=False, square=True,\n",
    "           cmap='OrRd')\n",
    "ax.set(title=mode, xlabel='')\n",
    "fig.autofmt_xdate()\n",
    "\n",
    "plt.tight_layout()\n",
    "out_file = os.path.join(cache_path, f'{data}_domain_width_mat_{mode}.pdf')\n",
    "print(f\"save fig => {out_file}\")\n",
    "plt.savefig(out_file)\n",
    "\n",
    "plt.show()"
   ]
  },
  {
   "cell_type": "code",
   "execution_count": null,
   "id": "speaking-processing",
   "metadata": {
    "scrolled": true
   },
   "outputs": [],
   "source": [
    "mode = 'SHeteroFL'\n",
    "fig, ax = plt.subplots(1, 1, figsize=(4,3))\n",
    "sns.heatmap(all_df_diff[mode], vmin=0., vmax=30., annot=True, fmt='.1f', cbar=False, square=True,\n",
    "           cmap='OrRd')\n",
    "ax.set(title=mode, xlabel='')\n",
    "fig.autofmt_xdate()\n",
    "\n",
    "plt.tight_layout()\n",
    "out_file = os.path.join(cache_path, f'{data}_domain_width_mat_{mode}.pdf')\n",
    "print(f\"save fig => {out_file}\")\n",
    "plt.savefig(out_file)\n",
    "\n",
    "plt.show()"
   ]
  },
  {
   "cell_type": "code",
   "execution_count": null,
   "id": "employed-improvement",
   "metadata": {},
   "outputs": [],
   "source": []
  }
 ],
 "metadata": {
  "kernelspec": {
   "display_name": "Python 3",
   "language": "python",
   "name": "python3"
  },
  "language_info": {
   "codemirror_mode": {
    "name": "ipython",
    "version": 3
   },
   "file_extension": ".py",
   "mimetype": "text/x-python",
   "name": "python",
   "nbconvert_exporter": "python",
   "pygments_lexer": "ipython3",
   "version": "3.7.5"
  }
 },
 "nbformat": 4,
 "nbformat_minor": 5
}
