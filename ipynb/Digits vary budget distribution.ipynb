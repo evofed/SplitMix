{
 "cells": [
  {
   "cell_type": "markdown",
   "id": "together-emphasis",
   "metadata": {},
   "source": [
    "The experiment was raised by the ICLR2022 reviewers.\n",
    "\n",
    "We aim to evaluate the methods in different experiment settings."
   ]
  },
  {
   "cell_type": "code",
   "execution_count": null,
   "id": "selected-brighton",
   "metadata": {},
   "outputs": [],
   "source": [
    "import os, sys\n",
    "import pandas as pd\n",
    "import wandb\n",
    "import numpy as np\n",
    "from tqdm.notebook import tqdm\n",
    "import seaborn as sns\n",
    "import matplotlib.pyplot as plt\n",
    "from collections import defaultdict\n",
    "from IPython.display import display"
   ]
  },
  {
   "cell_type": "code",
   "execution_count": null,
   "id": "aware-interim",
   "metadata": {},
   "outputs": [],
   "source": [
    "sns.set_style(\"ticks\")\n",
    "cmap = sns.color_palette()\n",
    "sns.set_palette(sns.color_palette())"
   ]
  },
  {
   "cell_type": "code",
   "execution_count": null,
   "id": "authorized-peripheral",
   "metadata": {},
   "outputs": [],
   "source": [
    "cache_path = './fig/flops_acc_curve'\n",
    "if not os.path.exists(cache_path):\n",
    "    os.makedirs(cache_path)"
   ]
  },
  {
   "cell_type": "code",
   "execution_count": null,
   "id": "parental-appraisal",
   "metadata": {},
   "outputs": [],
   "source": [
    "data = 'Digits'\n",
    "\n",
    "sweep_dict = {\n",
    "    'FedAvg': \"jyhong/SplitMix_release/sweeps/8g8s7kp4\",\n",
    "    'SHeteroFL': \"jyhong/SplitMix_release/sweeps/0lh7d73x\",\n",
    "    'SHeteroFL vary budgets': \"jyhong/SplitMix_release/sweeps/jbak4jzs\",\n",
    "    'HeteroFL ln': \"jyhong/SplitMix_release/sweeps/a36ramy7\",\n",
    "    'SplitMix': \"jyhong/SplitMix_release/sweeps/3wr7bsxb\",\n",
    "    'SplitMix vary budget': \"jyhong/SplitMix_release/sweeps/8g0irs68\",\n",
    "    'SplitMix ln': \"jyhong/SplitMix_release/sweeps/wz10puq8\",\n",
    "}"
   ]
  },
  {
   "cell_type": "code",
   "execution_count": null,
   "id": "mathematical-butterfly",
   "metadata": {},
   "outputs": [],
   "source": [
    "agg_df_dict = {}"
   ]
  },
  {
   "cell_type": "code",
   "execution_count": null,
   "id": "dimensional-pound",
   "metadata": {},
   "outputs": [],
   "source": [
    "def get_slimmabe_ratios(mode: str):\n",
    "    ps = mode.split('-')\n",
    "    slimmable_ratios = []\n",
    "    for p in ps:\n",
    "        if 'd' in p:\n",
    "            p, q = p.split('d')  # p: 1/p-net; q: weight of the net in samples\n",
    "            p, q = int(p), int(q)\n",
    "            p = p * 1. / q\n",
    "        else:\n",
    "            p = int(p)\n",
    "        slimmable_ratios.append(1. / p)\n",
    "#     print(f\"Set slim ratios: {self.slimmable_ratios} by mode: {mode}\")\n",
    "    return slimmable_ratios"
   ]
  },
  {
   "cell_type": "code",
   "execution_count": null,
   "id": "clinical-accounting",
   "metadata": {},
   "outputs": [],
   "source": [
    "def fetch_config_summary(runs, config_keys, summary_keys):\n",
    "    df_dict = defaultdict(list)\n",
    "    for run in runs:\n",
    "        if run.state != 'finished':\n",
    "            print(\"WARN: run not finished yet\")\n",
    "        history_len = 0\n",
    "        missing_sum_key = []\n",
    "        for k in summary_keys:\n",
    "            if k in run.summary:\n",
    "                h = run.summary[k]\n",
    "                df_dict[k].append(h)\n",
    "            else:\n",
    "                missing_sum_key.append(k)\n",
    "                break\n",
    "        if len(missing_sum_key) > 0:\n",
    "            print(f\"missing key: {missing_sum_key}\")\n",
    "            continue\n",
    "        for k in config_keys:\n",
    "            df_dict[k].append(run.config[k])\n",
    "    return df_dict"
   ]
  },
  {
   "cell_type": "markdown",
   "id": "constant-london",
   "metadata": {},
   "source": [
    "## FedAvg"
   ]
  },
  {
   "cell_type": "code",
   "execution_count": null,
   "id": "casual-costume",
   "metadata": {},
   "outputs": [],
   "source": [
    "mode = 'FedAvg'\n",
    "api = wandb.Api()\n",
    "sweep = api.sweep(sweep_dict[mode])"
   ]
  },
  {
   "cell_type": "code",
   "execution_count": null,
   "id": "satellite-experiment",
   "metadata": {},
   "outputs": [],
   "source": [
    "df_dict = fetch_config_summary(\n",
    "    sweep.runs,\n",
    "    config_keys = ['width_scale'], \n",
    "    summary_keys = ['avg test acc', 'GFLOPs', 'model size (MB)']\n",
    ")\n",
    "df = pd.DataFrame(df_dict)\n",
    "df['mode'] = mode\n",
    "df['width_scale'] = df['width_scale'] * 100\n",
    "df['width'] = df['width_scale']\n",
    "df['slim_ratios'] = 'w/o constraint'\n",
    "\n",
    "agg_df_dict[mode] = df  # [df['slim_ratio'] == 1.0]"
   ]
  },
  {
   "cell_type": "code",
   "execution_count": null,
   "id": "thick-landing",
   "metadata": {},
   "outputs": [],
   "source": [
    "fig, ax = plt.subplots(1, 1)\n",
    "# for slim_ratio, val_accs in zip(df_dict['slim_ratio'], df_dict['val_acc']):\n",
    "#     plt.plot(val_accs)\n",
    "sns.lineplot(data=df, x='width', y='avg test acc', marker='o')\n",
    "ax.set(xticks=df['width'].unique())\n",
    "# ax.set(xlim=(0, 150), ylim=(0.3, 0.9))\n",
    "ax.grid(True)"
   ]
  },
  {
   "cell_type": "markdown",
   "id": "powered-mountain",
   "metadata": {},
   "source": [
    "## SHeteroFL"
   ]
  },
  {
   "cell_type": "code",
   "execution_count": null,
   "id": "aboriginal-encounter",
   "metadata": {},
   "outputs": [],
   "source": [
    "mode = 'SHeteroFL'\n",
    "api = wandb.Api()\n",
    "sweep = api.sweep(sweep_dict[mode])"
   ]
  },
  {
   "cell_type": "code",
   "execution_count": null,
   "id": "immediate-regression",
   "metadata": {},
   "outputs": [],
   "source": [
    "df_dict = fetch_config_summary(\n",
    "    sweep.runs,\n",
    "    config_keys = ['test_slim_ratio'], \n",
    "    summary_keys = ['avg test acc', 'GFLOPs', 'model size (MB)']\n",
    ")\n",
    "df = pd.DataFrame(df_dict)\n",
    "df['test_slim_ratio'] = df['test_slim_ratio'] * 100\n",
    "df['width'] = df['test_slim_ratio']\n",
    "df['slim_ratios'] = '8-4-2-1'\n",
    "\n",
    "# df['mode'] = mode\n",
    "# agg_df_dict[mode] = df[df['slim_sch'] == 'group_size']\n",
    "\n",
    "df['mode'] = mode\n",
    "agg_df_dict[mode] = df\n",
    "# agg_df_dict['S'+mode] = df[df['slim_sch'] == 'group_slimmable']"
   ]
  },
  {
   "cell_type": "code",
   "execution_count": null,
   "id": "younger-transport",
   "metadata": {},
   "outputs": [],
   "source": [
    "fig, ax = plt.subplots(1, 1)\n",
    "# for slim_ratio, val_accs in zip(df_dict['slim_ratio'], df_dict['val_acc']):\n",
    "#     plt.plot(val_accs)\n",
    "sns.lineplot(data=df, x='test_slim_ratio', y='avg test acc', \n",
    "             marker='o')\n",
    "ax.set(xticks=df['test_slim_ratio'].unique())\n",
    "# ax.set(xlim=(0, 150), ylim=(0.3, 0.9))\n",
    "ax.grid(True)"
   ]
  },
  {
   "cell_type": "code",
   "execution_count": null,
   "id": "forced-import",
   "metadata": {},
   "outputs": [],
   "source": [
    "mode = 'SHeteroFL vary budgets'\n",
    "api = wandb.Api()\n",
    "sweep = api.sweep(sweep_dict[mode])\n",
    "\n",
    "df_dict = fetch_config_summary(\n",
    "    sweep.runs,\n",
    "    config_keys = ['test_slim_ratio', 'slim_ratios'], \n",
    "    summary_keys = ['avg test acc', 'GFLOPs', 'model size (MB)']\n",
    ")\n",
    "del_idxs = []\n",
    "for idx in range(len(df_dict['slim_ratios'])):\n",
    "    slim_ratios = get_slimmabe_ratios(df_dict['slim_ratios'][idx])\n",
    "    # print(df_dict['slim_ratios'][idx], slim_ratios)\n",
    "    if df_dict['test_slim_ratio'][idx] not in slim_ratios:\n",
    "        # print(\"del\", idx, df_dict['test_slim_ratio'][idx])\n",
    "        del_idxs.append(idx)\n",
    "for k in df_dict:\n",
    "    df_dict[k] = [v for i, v in enumerate(df_dict[k]) if i not in del_idxs]\n",
    "df = pd.DataFrame(df_dict)\n",
    "df['test_slim_ratio'] = df['test_slim_ratio'] * 100\n",
    "df['width'] = df['test_slim_ratio']\n",
    "\n",
    "df['mode'] = 'SHeteroFL'\n",
    "agg_df_dict[mode] = df  # [df['slim_sch'] == 'group_slimmable']"
   ]
  },
  {
   "cell_type": "code",
   "execution_count": null,
   "id": "streaming-marathon",
   "metadata": {
    "scrolled": true
   },
   "outputs": [],
   "source": [
    "sns.lineplot(data=df, x='width', y='avg test acc', hue='slim_ratios', marker='o')\n",
    "plt.grid(True)"
   ]
  },
  {
   "cell_type": "markdown",
   "id": "opponent-spain",
   "metadata": {},
   "source": [
    "## Split-Mix"
   ]
  },
  {
   "cell_type": "code",
   "execution_count": null,
   "id": "working-cursor",
   "metadata": {},
   "outputs": [],
   "source": [
    "dfs = []\n",
    "# for atom_slim_ratio in [0.125, 0.25]:\n",
    "for mode in ['SplitMix']:  # , 'SplitMix incr']:\n",
    "    print(f\"mode: {mode}\")\n",
    "    api = wandb.Api()\n",
    "    sweep = api.sweep(sweep_dict[mode])\n",
    "\n",
    "    df_dict = fetch_config_summary(\n",
    "        sweep.runs,\n",
    "        config_keys = ['test_slim_ratio', 'atom_slim_ratio'], \n",
    "        summary_keys = ['avg test acc', 'GFLOPs', 'model size (MB)']\n",
    "    )\n",
    "    df = pd.DataFrame(df_dict)\n",
    "    df['mode'] = mode\n",
    "    df['test_slim_ratio'] = df['test_slim_ratio'] * 100\n",
    "    df['width'] = df['test_slim_ratio']\n",
    "    df['slim_ratios'] = '8-4-2-1'\n",
    "    dfs.append(df)\n",
    "    agg_df_dict[mode] = df\n",
    "    \n",
    "df = pd.concat(dfs)"
   ]
  },
  {
   "cell_type": "code",
   "execution_count": null,
   "id": "cooperative-watts",
   "metadata": {},
   "outputs": [],
   "source": [
    "fig, ax = plt.subplots(1, 1)\n",
    "# for slim_ratio, val_accs in zip(df_dict['slim_ratio'], df_dict['val_acc']):\n",
    "#     plt.plot(val_accs)\n",
    "sns.lineplot(data=df, x='test_slim_ratio', y='avg test acc', marker='o')\n",
    "ax.set(xticks=df['test_slim_ratio'].unique())\n",
    "# ax.set(xlim=(0, 150), ylim=(0.3, 0.9))\n",
    "ax.grid(True)"
   ]
  },
  {
   "cell_type": "code",
   "execution_count": null,
   "id": "colored-january",
   "metadata": {},
   "outputs": [],
   "source": [
    "for mode in ['SplitMix vary budget']:\n",
    "    # 'SplitMix step=0.25 non-exp'\n",
    "    api = wandb.Api()\n",
    "    sweep = api.sweep(sweep_dict[mode])\n",
    "\n",
    "    print(f\"mode: {mode}\")\n",
    "    api = wandb.Api()\n",
    "    sweep = api.sweep(sweep_dict[mode])\n",
    "\n",
    "    df_dict = fetch_config_summary(\n",
    "        sweep.runs,\n",
    "        config_keys = ['test_slim_ratio', 'atom_slim_ratio', 'slim_ratios'], \n",
    "        summary_keys = ['avg test acc', 'GFLOPs', 'model size (MB)']\n",
    "    )\n",
    "    df = pd.DataFrame(df_dict)\n",
    "    df['mode'] = 'SplitMix'\n",
    "    df['test_slim_ratio'] = df['test_slim_ratio'] * 100\n",
    "    df['width'] = df['test_slim_ratio']\n",
    "    df = df[df['slim_ratios'] != '8-4-2-1']\n",
    "    agg_df_dict[mode] = df"
   ]
  },
  {
   "cell_type": "code",
   "execution_count": null,
   "id": "instant-uruguay",
   "metadata": {},
   "outputs": [],
   "source": [
    "fig, ax = plt.subplots(1, 1)\n",
    "# for slim_ratio, val_accs in zip(df_dict['slim_ratio'], df_dict['val_acc']):\n",
    "#     plt.plot(val_accs)\n",
    "sns.lineplot(data=df, x='width', y='avg test acc', marker='o', hue='slim_ratios')\n",
    "ax.set(xticks=df['test_slim_ratio'].unique())\n",
    "# ax.set(xlim=(0, 150), ylim=(0.3, 0.9))\n",
    "ax.grid(True)"
   ]
  },
  {
   "cell_type": "markdown",
   "id": "prospective-walter",
   "metadata": {},
   "source": [
    "## Aggregation"
   ]
  },
  {
   "cell_type": "code",
   "execution_count": null,
   "id": "herbal-nightlife",
   "metadata": {},
   "outputs": [],
   "source": [
    "agg = pd.concat([v for k, v in agg_df_dict.items()])"
   ]
  },
  {
   "cell_type": "code",
   "execution_count": null,
   "id": "shared-space",
   "metadata": {},
   "outputs": [],
   "source": [
    "cmap = sns.color_palette(as_cmap=True)\n",
    "len(cmap)"
   ]
  },
  {
   "cell_type": "markdown",
   "id": "earlier-saturday",
   "metadata": {},
   "source": [
    "more budget-sufficient clients"
   ]
  },
  {
   "cell_type": "code",
   "execution_count": null,
   "id": "completed-margin",
   "metadata": {},
   "outputs": [],
   "source": [
    "agg = pd.concat([v for k, v in agg_df_dict.items()])\n",
    "agg = agg.reset_index()\n",
    "agg['avg test acc'] = agg['avg test acc'] * 100\n",
    "agg['MFLOPs'] = agg['GFLOPs'] * 1e3\n",
    "agg['method'] = agg['mode'].apply(lambda n: n if n != 'FedAvg' else 'Ind. FedAvg')\n",
    "agg['budgets'] = agg['slim_ratios'].apply(lambda n: (n.replace('d', '/')) if '-' in n else n)\n",
    "agg = agg[agg['slim_ratios'].apply(lambda n: 'd' not in n)]\n",
    "\n",
    "fig, ax = plt.subplots(1, 1, figsize=(5,3))\n",
    "sns.lineplot(data=agg, x='width', y='avg test acc', marker='o', style='method', hue='budgets',\n",
    "            style_order=['Ind. FedAvg', 'SplitMix', 'SHeteroFL'], palette=cmap[:len(agg['budgets'].unique())])\n",
    "ax.set(xticks=agg['width'].unique(), ylabel='average test accuracy (%)',\n",
    "      xlabel='width (%)')\n",
    "# ax.set(xlim=(None, 200))\n",
    "ax.legend(loc='center left', bbox_to_anchor=(1, 0.5))\n",
    "ax.grid(True)\n",
    "\n",
    "plt.tight_layout()\n",
    "out_file = os.path.join(cache_path, f'vary_budget_dist_skew.pdf')\n",
    "print(f\"save fig => {out_file}\")\n",
    "plt.savefig(out_file)\n",
    "\n",
    "plt.show()"
   ]
  },
  {
   "cell_type": "code",
   "execution_count": null,
   "id": "inclusive-count",
   "metadata": {},
   "outputs": [],
   "source": [
    "fig, ax = plt.subplots(1, 1, figsize=(4,3))\n",
    "df = agg[np.isin(agg['budgets'], ['8-4-2-1', 'w/o constraint'])]\n",
    "# df = df[np.isin(df['method'], ['Ind. FedAvg', 'SHeteroFL'])]\n",
    "sns.lineplot(data=df, x='width', y='avg test acc', marker='o', style='method', # hue='budgets',\n",
    "#             style_order=['Ind. FedAvg', 'SplitMix', 'SHeteroFL'], # palette=cmap[:len(df['budgets'].unique())]\n",
    "            )\n",
    "ax.set(xticks=df['width'].unique(), ylabel='average test accuracy (%)', xlabel='width (%)')\n",
    "ax.set(ylim=(81, 90.2))\n",
    "# ax.legend(loc='center left', bbox_to_anchor=(1, 0.5))\n",
    "# ax.legend('')\n",
    "ax.grid(True)"
   ]
  },
  {
   "cell_type": "code",
   "execution_count": null,
   "id": "polyphonic-keyboard",
   "metadata": {},
   "outputs": [],
   "source": [
    "df_dict = defaultdict(list)\n",
    "for slim_ratio in agg['slim_ratios']:\n",
    "    if slim_ratio != 'w/o constraint':\n",
    "        slim_ratios = get_slimmabe_ratios(slim_ratio)\n",
    "        df_dict['group'].extend([1,2,3,4])\n",
    "        df_dict['width constraint'].extend(slim_ratios)\n",
    "        df_dict['budgets'].extend([slim_ratio]*len(slim_ratios))\n",
    "df = pd.DataFrame(df_dict)\n",
    "# df\n",
    "\n",
    "fig, ax = plt.subplots(1, 1, figsize=(5,3))\n",
    "sns.barplot(data=df, x='group', y='width constraint', hue='budgets', \n",
    "            palette=cmap[1:len(agg['budgets'].unique())])\n",
    "plt.grid(True)\n",
    "\n",
    "plt.tight_layout()\n",
    "out_file = os.path.join(cache_path, f'budget_dist_skew.pdf')\n",
    "print(f\"save fig => {out_file}\")\n",
    "plt.savefig(out_file)\n",
    "\n",
    "plt.show()"
   ]
  },
  {
   "cell_type": "code",
   "execution_count": null,
   "id": "quantitative-exhibition",
   "metadata": {},
   "outputs": [],
   "source": [
    "df_ = df[df['budgets'] == '8-4-2-1']\n",
    "fig, ax = plt.subplots(1, 1, figsize=(5,3))\n",
    "sns.barplot(data=df_, x='group', y='width constraint', hue='budgets')\n",
    "plt.grid(True)"
   ]
  },
  {
   "cell_type": "markdown",
   "id": "relevant-yield",
   "metadata": {},
   "source": [
    "step-increase budgets"
   ]
  },
  {
   "cell_type": "code",
   "execution_count": null,
   "id": "polish-theology",
   "metadata": {},
   "outputs": [],
   "source": [
    "agg = pd.concat([v for k, v in agg_df_dict.items()])\n",
    "agg = agg.reset_index()\n",
    "agg['avg test acc'] = agg['avg test acc'] * 100\n",
    "agg['MFLOPs'] = agg['GFLOPs'] * 1e3\n",
    "agg['method'] = agg['mode'].apply(lambda n: n if n != 'FedAvg' else 'Ind. FedAvg')\n",
    "agg['budgets'] = agg['slim_ratios'].apply(lambda n: (n.replace('d', '/')) if '-' in n else n)\n",
    "agg = agg[agg['budgets'].apply(lambda n: '/' in n)]\n",
    "\n",
    "fig, ax = plt.subplots(1, 1, figsize=(5,3))\n",
    "sns.lineplot(data=agg, x='width', y='avg test acc', marker='o', style='method', hue='budgets',\n",
    "            style_order=['Ind. FedAvg', 'SplitMix', 'SHeteroFL'])\n",
    "ax.set(xticks=agg['width'].unique(), ylabel='average test accuracy (%)', ylim=(77.5, None))\n",
    "ax.set(xlabel='width (%)')\n",
    "ax.legend(loc='center left', bbox_to_anchor=(1, 0.5))\n",
    "ax.grid(True)\n",
    "\n",
    "plt.tight_layout()\n",
    "out_file = os.path.join(cache_path, f'vary_budget_dist_step.pdf')\n",
    "print(f\"save fig => {out_file}\")\n",
    "plt.savefig(out_file)\n",
    "\n",
    "plt.show()"
   ]
  },
  {
   "cell_type": "code",
   "execution_count": null,
   "id": "technical-setting",
   "metadata": {},
   "outputs": [],
   "source": [
    "df_dict = defaultdict(list)\n",
    "for slim_ratio in agg['slim_ratios']:\n",
    "    if slim_ratio != 'w/o constraint':\n",
    "        slim_ratios = get_slimmabe_ratios(slim_ratio)\n",
    "        df_dict['group'].extend([1,2,3,4])\n",
    "        df_dict['width constraint'].extend(slim_ratios)\n",
    "        df_dict['budgets'].extend([slim_ratio]*len(slim_ratios))\n",
    "df = pd.DataFrame(df_dict)\n",
    "# df\n",
    "\n",
    "fig, ax = plt.subplots(1, 1, figsize=(5,3))\n",
    "sns.barplot(data=df, x='group', y='width constraint', hue='budgets')\n",
    "plt.grid(True)\n",
    "\n",
    "plt.tight_layout()\n",
    "out_file = os.path.join(cache_path, f'budget_dist_step.pdf')\n",
    "print(f\"save fig => {out_file}\")\n",
    "plt.savefig(out_file)\n",
    "\n",
    "plt.show()"
   ]
  },
  {
   "cell_type": "markdown",
   "id": "administrative-depression",
   "metadata": {},
   "source": [
    "log normal budget distribution"
   ]
  },
  {
   "cell_type": "code",
   "execution_count": null,
   "id": "consolidated-viking",
   "metadata": {},
   "outputs": [],
   "source": [
    "ln_agg_df_dict = {}\n",
    "for mode in ['SplitMix ln', 'HeteroFL ln']:\n",
    "    # 'SplitMix step=0.25 non-exp'\n",
    "    api = wandb.Api()\n",
    "    sweep = api.sweep(sweep_dict[mode])\n",
    "\n",
    "    print(f\"mode: {mode}\")\n",
    "    api = wandb.Api()\n",
    "    sweep = api.sweep(sweep_dict[mode])\n",
    "\n",
    "    df_dict = fetch_config_summary(\n",
    "        sweep.runs,\n",
    "        config_keys = ['test_slim_ratio', 'slim_ratios'], \n",
    "        summary_keys = ['avg test acc', 'GFLOPs', 'model size (MB)']\n",
    "    )\n",
    "    df = pd.DataFrame(df_dict)\n",
    "    df['mode'] = mode.split(' ')[0]\n",
    "    df['test_slim_ratio'] = df['test_slim_ratio'] * 100\n",
    "    df['width'] = df['test_slim_ratio']\n",
    "    df = df[df['slim_ratios'] != '8-4-2-1']\n",
    "    ln_agg_df_dict[mode] = df\n",
    "ln_agg_df_dict['FedAvg'] = agg_df_dict['FedAvg']"
   ]
  },
  {
   "cell_type": "code",
   "execution_count": null,
   "id": "surrounded-afghanistan",
   "metadata": {
    "scrolled": true
   },
   "outputs": [],
   "source": [
    "agg = pd.concat([v for k, v in ln_agg_df_dict.items()])\n",
    "agg = agg.reset_index()\n",
    "agg['avg test acc'] = agg['avg test acc'] * 100\n",
    "agg['method'] = agg['mode'].apply(lambda n: n if n != 'FedAvg' else 'Ind. FedAvg')\n",
    "\n",
    "fig, ax = plt.subplots(1, 1, figsize=(4,3))\n",
    "sns.lineplot(data=agg, x='width', y='avg test acc', marker='o', style='method', #hue='budgets',\n",
    "            style_order=['Ind. FedAvg', 'SplitMix', 'HeteroFL'])\n",
    "ax.set(xticks=agg['width'].unique(), ylabel='average test accuracy (%)', ylim=(65, None),\n",
    "      xlabel='width (%)')\n",
    "ax.grid(True)\n",
    "\n",
    "plt.tight_layout()\n",
    "out_file = os.path.join(cache_path, f'vary_budget_dist_ln.pdf')\n",
    "print(f\"save fig => {out_file}\")\n",
    "plt.savefig(out_file)\n",
    "\n",
    "plt.show()"
   ]
  },
  {
   "cell_type": "code",
   "execution_count": null,
   "id": "optical-integrity",
   "metadata": {},
   "outputs": [],
   "source": [
    "def get_slim_ratio_schedule(train_slim_ratios: list, mode: str, client_num):\n",
    "    if mode.startswith('ln'):  # lognorm\n",
    "        ws = sorted(train_slim_ratios)\n",
    "        min_w = min(train_slim_ratios)\n",
    "        from scipy.stats import lognorm\n",
    "        s, scale = [float(v) for v in mode[len('ln'):].split('_')]\n",
    "        rv = lognorm(s=s, scale=scale)\n",
    "        print(ws)\n",
    "        cdfs = [rv.cdf(w) for w in ws] + [1.]\n",
    "        print(cdfs)\n",
    "        qs = [c - rv.cdf(min_w) for c in cdfs]\n",
    "        r = (qs[-1]-qs[0])\n",
    "        qs = [int(client_num * (q-qs[0]) / r) for q in qs]\n",
    "        print(qs)\n",
    "        slim_ratios = np.zeros(client_num)\n",
    "        for i in range(len(qs)-1):\n",
    "            slim_ratios[qs[i]:qs[i+1]] = ws[i]\n",
    "        return slim_ratios\n",
    "get_slim_ratio_schedule(np.arange(0.125, 1.+0.125, 0.125), 'ln0.5_0.4', 50)"
   ]
  },
  {
   "cell_type": "code",
   "execution_count": null,
   "id": "systematic-parts",
   "metadata": {},
   "outputs": [],
   "source": [
    "sch = get_slim_ratio_schedule(np.arange(0.125, 1.+0.125, 0.125), 'ln0.5_0.4', 50)\n",
    "budgets, cnts = np.unique(sch, return_counts=True)\n",
    "print(budgets, cnts)\n",
    "\n",
    "fig, ax = plt.subplots(1, 1, figsize=(4,3))\n",
    "ax.bar(x=budgets, height=cnts, width=[0.125]*len(budgets), align='center')\n",
    "\n",
    "ax.grid(True)\n",
    "ax.set(xlabel='budget (maximal compatible width)', ylabel='number of clients')\n",
    "ax.set_xticks(budgets)\n",
    "ax.set_xticklabels(budgets)\n",
    "\n",
    "plt.tight_layout()\n",
    "out_file = os.path.join(cache_path, f'digits_budget_dist_ln0.5_0.4.pdf')\n",
    "print(f\"save fig => {out_file}\")\n",
    "plt.savefig(out_file)\n",
    "\n",
    "plt.show()"
   ]
  },
  {
   "cell_type": "code",
   "execution_count": null,
   "id": "pursuant-minute",
   "metadata": {},
   "outputs": [],
   "source": []
  }
 ],
 "metadata": {
  "kernelspec": {
   "display_name": "Python 3",
   "language": "python",
   "name": "python3"
  },
  "language_info": {
   "codemirror_mode": {
    "name": "ipython",
    "version": 3
   },
   "file_extension": ".py",
   "mimetype": "text/x-python",
   "name": "python",
   "nbconvert_exporter": "python",
   "pygments_lexer": "ipython3",
   "version": "3.7.5"
  }
 },
 "nbformat": 4,
 "nbformat_minor": 5
}
