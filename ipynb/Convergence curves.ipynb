{
 "cells": [
  {
   "cell_type": "markdown",
   "id": "received-practice",
   "metadata": {},
   "source": [
    "Compare the convergence curves"
   ]
  },
  {
   "cell_type": "code",
   "execution_count": null,
   "id": "genuine-liberia",
   "metadata": {},
   "outputs": [],
   "source": [
    "import os, sys\n",
    "import pandas as pd\n",
    "import wandb\n",
    "import numpy as np\n",
    "from tqdm.notebook import tqdm\n",
    "import seaborn as sns\n",
    "import matplotlib.pyplot as plt\n",
    "from collections import defaultdict\n",
    "from IPython.display import display\n",
    "\n",
    "sns.set_style(\"ticks\")\n",
    "cmap = sns.color_palette()\n",
    "sns.set_palette(sns.color_palette())"
   ]
  },
  {
   "cell_type": "code",
   "execution_count": null,
   "id": "successful-checkout",
   "metadata": {},
   "outputs": [],
   "source": [
    "cache_path = './fig/slimmable'\n",
    "if not os.path.exists(cache_path):\n",
    "    os.makedirs(cache_path)\n",
    "def save_fig(fname):\n",
    "    plt.tight_layout()\n",
    "    out_file = os.path.join(cache_path, fname)\n",
    "    print(f\"save fig => {out_file}\")\n",
    "    plt.savefig(out_file)"
   ]
  },
  {
   "cell_type": "code",
   "execution_count": null,
   "id": "dirty-cocktail",
   "metadata": {},
   "outputs": [],
   "source": [
    "data = 'DomainNet'\n",
    "if data == 'Cifar10_cniid':\n",
    "    sweep_dict = {\n",
    "        'FedAvg': \"jyhong/SplitMix_release/sweeps/dlxe994l\",\n",
    "        'SHeteroFL': \"jyhong/SplitMix_release/sweeps/54zqzzno\",\n",
    "        'Split-Mix': \"jyhong/SplitMix_release/sweeps/np49m5hp\",\n",
    "    }\n",
    "elif data == 'Digits':\n",
    "    sweep_dict = {\n",
    "        'FedAvg': \"jyhong/SplitMix_release/sweeps/057l05ow\",\n",
    "        'SHeteroFL': \"jyhong/SplitMix_release/sweeps/ufwuoldc\",\n",
    "        'Split-Mix': \"jyhong/SplitMix_release/sweeps/ybief82d\",\n",
    "    }\n",
    "elif data == 'DomainNet':\n",
    "    sweep_dict = {\n",
    "        'FedAvg': \"jyhong/SplitMix_release/sweeps/wf20oh8r\",\n",
    "        'SHeteroFL': \"jyhong/SplitMix_release/sweeps/dqfo7crn\",\n",
    "        'Split-Mix': \"jyhong/SplitMix_release/sweeps/naglzvcl\",\n",
    "    }"
   ]
  },
  {
   "cell_type": "code",
   "execution_count": null,
   "id": "bigger-equality",
   "metadata": {},
   "outputs": [],
   "source": [
    "agg_df_dict = {}"
   ]
  },
  {
   "cell_type": "code",
   "execution_count": null,
   "id": "sound-fraction",
   "metadata": {},
   "outputs": [],
   "source": [
    "def fetch_config_history(config_keys, history_keys):\n",
    "    df_dict = {k: [] for k in config_keys+history_keys+['step']}\n",
    "    for run in sweep.runs:\n",
    "        if run.state != 'finished':\n",
    "            print(\"WARN: run not finished yet\")\n",
    "        history_len = 0\n",
    "        run_history = run.history(samples=1000, keys=history_keys)\n",
    "        for k in history_keys:\n",
    "            h = run_history[k]\n",
    "            df_dict[k].extend(h)\n",
    "            history_len = len(h)\n",
    "        if history_len == 0:\n",
    "            continue\n",
    "        df_dict['step'].extend(list(range(history_len)))\n",
    "        for k in config_keys:\n",
    "            df_dict[k].extend([run.config[k]] * history_len)\n",
    "    return df_dict"
   ]
  },
  {
   "cell_type": "markdown",
   "id": "scheduled-consultancy",
   "metadata": {},
   "source": [
    "## FedAvg"
   ]
  },
  {
   "cell_type": "code",
   "execution_count": null,
   "id": "coordinate-netherlands",
   "metadata": {},
   "outputs": [],
   "source": [
    "mode = 'FedAvg'\n",
    "api = wandb.Api()\n",
    "sweep = api.sweep(sweep_dict[mode])"
   ]
  },
  {
   "cell_type": "code",
   "execution_count": null,
   "id": "exposed-colorado",
   "metadata": {},
   "outputs": [],
   "source": [
    "df_dict = fetch_config_history(\n",
    "    config_keys = ['width_scale'], \n",
    "    history_keys = ['val_acc', 'train_loss', '_runtime']\n",
    ")\n",
    "df = pd.DataFrame(df_dict)\n",
    "df['mode'] = mode + ' 1-Net'\n",
    "\n",
    "RT_df = df\n",
    "agg_df_dict[mode] = df[df['width_scale'] == 0.125]"
   ]
  },
  {
   "cell_type": "code",
   "execution_count": null,
   "id": "burning-karma",
   "metadata": {},
   "outputs": [],
   "source": [
    "df"
   ]
  },
  {
   "cell_type": "code",
   "execution_count": null,
   "id": "fossil-howard",
   "metadata": {},
   "outputs": [],
   "source": [
    "fig, ax = plt.subplots(1, 1)\n",
    "# for slim_ratio, val_accs in zip(df_dict['slim_ratio'], df_dict['val_acc']):\n",
    "#     plt.plot(val_accs)\n",
    "sns.lineplot(data=df, x='step', y='val_acc', hue='width_scale')\n",
    "ax.set(xlim=(0, 400)) # , ylim=(0.1, 0.72))\n",
    "ax.grid(True)"
   ]
  },
  {
   "cell_type": "markdown",
   "id": "useful-blake",
   "metadata": {},
   "source": [
    "## SHeteroFL"
   ]
  },
  {
   "cell_type": "code",
   "execution_count": null,
   "id": "reasonable-clothing",
   "metadata": {},
   "outputs": [],
   "source": [
    "mode = 'SHeteroFL'\n",
    "api = wandb.Api()\n",
    "sweep = api.sweep(sweep_dict[mode])"
   ]
  },
  {
   "cell_type": "code",
   "execution_count": null,
   "id": "rough-fellowship",
   "metadata": {},
   "outputs": [],
   "source": [
    "def smooth(y, box_pts):\n",
    "    box = np.ones(box_pts)/box_pts\n",
    "    y_smooth = np.convolve(y, box, mode='same')\n",
    "    return y_smooth\n",
    "\n",
    "def fetch_config_history_HeteroFL(runs, config_keys, history_keys, smooth_window=0):\n",
    "    df_dict = defaultdict(list)\n",
    "    for k in history_keys:\n",
    "        for run in runs:\n",
    "            if run.state != 'finished':\n",
    "                print(\"WARN: run not finished yet\")\n",
    "            # history_len = 0\n",
    "            history = run.history(samples=1000)\n",
    "            h = history[k]\n",
    "            # assert 'val_sacc' in k, f\"Not val_sacc key: {k}\"\n",
    "            history_len = len(h)\n",
    "            if history_len == 0:\n",
    "                continue\n",
    "            if smooth_window > 0:\n",
    "                h = smooth(h, 10)\n",
    "            df_dict['val_acc'].extend(h)\n",
    "            slim_ratio = k[len('slim'):len('slim')+4]\n",
    "            if slim_ratio == '0.12':\n",
    "                slim_ratio = '0.125'\n",
    "            df_dict['slim_ratio'].extend([float(slim_ratio)] * history_len)\n",
    "            df_dict['step'].extend(list(range(history_len)))\n",
    "            assert len(history['_runtime']) == history_len, f\"{len(history['_runtime'])} != {history_len}\"\n",
    "            df_dict['_runtime'].extend(history['_runtime'])\n",
    "            for c_k in config_keys:\n",
    "                df_dict[c_k].extend([run.config[c_k]] * history_len)\n",
    "    return df_dict"
   ]
  },
  {
   "cell_type": "code",
   "execution_count": null,
   "id": "hidden-costs",
   "metadata": {},
   "outputs": [],
   "source": [
    "sel_slim_ratio = 1.\n",
    "df_dict = fetch_config_history_HeteroFL(\n",
    "    sweep.runs,\n",
    "    config_keys = [],\n",
    "    history_keys = [f'slim{r:.2f} val_sacc' for r in [1.0,0.5,0.25,0.125]],\n",
    "#     history_keys = [f'val_acc'],\n",
    "#     history_keys = [f'slim1.00 val_sacc'],\n",
    "    smooth_window = 0,\n",
    ")\n",
    "df = pd.DataFrame(df_dict)\n",
    "df = df.rename({'slim1.00 val_sacc': 'val_acc'}, axis=1)\n",
    "df = df.rename({'slim_ratio': 'width_scale'}, axis=1)\n",
    "\n",
    "df['mode'] = mode + f' {sel_slim_ratio}-Net'\n",
    "agg_df_dict[mode] = df[(df['width_scale'] == sel_slim_ratio)]  # & (df['slim_sch'] == 'group_size')]\n",
    "\n",
    "# df['mode'] = mode + f' {sel_slim_ratio}-Net'\n",
    "# agg_df_dict[mode] = df  #[(df['slim_ratio'] == sel_slim_ratio) & (df['slim_sch'] == 'group_slimmable')]"
   ]
  },
  {
   "cell_type": "code",
   "execution_count": null,
   "id": "opponent-answer",
   "metadata": {},
   "outputs": [],
   "source": [
    "fig, ax = plt.subplots(1, 1)\n",
    "# for slim_ratio, val_accs in zip(df_dict['slim_ratio'], df_dict['val_acc']):\n",
    "#     plt.plot(val_accs)\n",
    "sns.lineplot(data=df, x='step', y='val_acc', hue='width_scale')\n",
    "ax.set(xlim=(0, 400))  #, ylim=(0.1, 0.72))\n",
    "ax.grid(True)"
   ]
  },
  {
   "cell_type": "code",
   "execution_count": null,
   "id": "alleged-dubai",
   "metadata": {},
   "outputs": [],
   "source": [
    "fig, ax = plt.subplots(1, 1, figsize=(4,4))\n",
    "# for slim_ratio, val_accs in zip(df_dict['slim_ratio'], df_dict['val_acc']):\n",
    "#     plt.plot(val_accs)\n",
    "_df = pd.concat((RT_df, df))\n",
    "\n",
    "_df['mode'] = _df['mode'].apply(lambda n: {'FedAvg 1-Net': 'FedAvg', 'SHeteroFL 1.0-Net': 'SHeteroFL'}[n])\n",
    "_df['mode'] = _df['mode'].apply(lambda n: n if n!='RT' else 'FedAvg')\n",
    "if data == 'DomainNet':\n",
    "    _df['val_acc'] = smooth(_df['val_acc'], 10)\n",
    "else:\n",
    "    _df['val_acc'] = smooth(_df['val_acc'], 5)\n",
    "_df = _df.rename(columns={'width_scale': 'width'})\n",
    "\n",
    "sns.lineplot(data=_df, x='step', y='val_acc', hue='width', style='mode')\n",
    "if data == 'Digits':\n",
    "    ax.set(xlim=(0, 200), ylim=(0.6, 0.9), ylabel='validation accuracy', xlabel='communication round', \n",
    "           title=f'{data}')\n",
    "elif data == 'Cifar10_pct1':\n",
    "    ax.set(xlim=(0, 390), ylim=(0.4, 0.93), ylabel='validation accuracy', xlabel='communication round', \n",
    "           title=f'CIFAR10 100%')\n",
    "elif data == 'Cifar10_cniid':\n",
    "    ax.set(xlim=(0, 390), ylim=(0.25, 0.57), ylabel='validation accuracy', xlabel='communication round', \n",
    "           title=f'CIFAR10 100%')\n",
    "elif data == 'DomainNet':\n",
    "    ax.set(xlim=(0, 390), ylim=(0.35, 0.73), ylabel='validation accuracy', xlabel='communication round')\n",
    "ax.grid(True)\n",
    "\n",
    "save_fig(f'{data.lower()}_val_acc_converg_SHeteroFL_FedAvg.pdf')\n",
    "\n",
    "plt.show()"
   ]
  },
  {
   "cell_type": "markdown",
   "id": "swedish-acquisition",
   "metadata": {},
   "source": [
    "## Split-Mix"
   ]
  },
  {
   "cell_type": "code",
   "execution_count": null,
   "id": "further-spanish",
   "metadata": {},
   "outputs": [],
   "source": [
    "mode = 'Split-Mix'\n",
    "api = wandb.Api()\n",
    "sweep = api.sweep(sweep_dict[mode])"
   ]
  },
  {
   "cell_type": "code",
   "execution_count": null,
   "id": "latest-peninsula",
   "metadata": {},
   "outputs": [],
   "source": [
    "sel_atom_ratio = 0.125\n",
    "if data == 'Digits':\n",
    "    df_dict = fetch_config_history(\n",
    "        config_keys = ['loss_temp', 'rescale_init', 'rescale_layer'],\n",
    "        history_keys = ['val_acc']\n",
    "    )\n",
    "    df = pd.DataFrame(df_dict)\n",
    "    df = df[(df['loss_temp']=='none') & (df['rescale_init']==True) & (df['rescale_layer']==True)]\n",
    "    df.drop(['loss_temp', 'rescale_init', 'rescale_layer'], axis=1)\n",
    "else:\n",
    "    df_dict = fetch_config_history(\n",
    "        config_keys = [],\n",
    "        history_keys = ['val_acc']\n",
    "    )\n",
    "    df = pd.DataFrame(df_dict)\n",
    "# df = df.rename({'slim_ratio': 'atom_ratio'}, axis=1)\n",
    "df['mode'] = mode + f' {int(1/sel_atom_ratio)}x{sel_atom_ratio}-Net'\n",
    "\n",
    "# _df = df[df['atom_slim_ratio']==sel_atom_ratio]\n",
    "_df = df.set_index('step')\n",
    "_RT_df = RT_df.set_index('step')\n",
    "_df['_runtime'] = (_RT_df[_RT_df['width_scale'] == 1.]['_runtime'] \\\n",
    "                   + _RT_df[_RT_df['width_scale'] == 0.5]['_runtime'] \\\n",
    "                   + _RT_df[_RT_df['width_scale'] == 0.25]['_runtime'] \\\n",
    "                   + _RT_df[_RT_df['width_scale'] == 0.125]['_runtime']) / 4. *1.05\n",
    "_df = _df.reset_index()\n",
    "\n",
    "agg_df_dict[mode] = _df"
   ]
  },
  {
   "cell_type": "code",
   "execution_count": null,
   "id": "closing-music",
   "metadata": {},
   "outputs": [],
   "source": [
    "fig, ax = plt.subplots(1, 1)\n",
    "# for slim_ratio, val_accs in zip(df_dict['slim_ratio'], df_dict['val_acc']):\n",
    "#     plt.plot(val_accs)\n",
    "sns.lineplot(data=_df, x='step', y='val_acc')\n",
    "ax.set(xlim=(0, None))  #, ylim=(0.1, 0.72))\n",
    "ax.grid(True)\n",
    "print(max(df['val_acc']))"
   ]
  },
  {
   "cell_type": "markdown",
   "id": "flush-filter",
   "metadata": {},
   "source": [
    "## Aggregation"
   ]
  },
  {
   "cell_type": "code",
   "execution_count": null,
   "id": "medieval-balance",
   "metadata": {},
   "outputs": [],
   "source": [
    "agg = pd.concat([v for k, v in agg_df_dict.items()])"
   ]
  },
  {
   "cell_type": "code",
   "execution_count": null,
   "id": "shaped-breakdown",
   "metadata": {},
   "outputs": [],
   "source": [
    "agg_df_dict.keys()"
   ]
  },
  {
   "cell_type": "code",
   "execution_count": null,
   "id": "arabic-southeast",
   "metadata": {},
   "outputs": [],
   "source": [
    "agg = pd.concat([agg_df_dict[k] for k in ['FedAvg', \"SHeteroFL\", \"Split-Mix\"]])\n",
    "agg['mode'] = agg['mode'].apply(lambda n: {'FedAvg 1-Net': 'FedAvg', 'Split-Mix 8x0.125-Net': 'Split-Mix', \n",
    "                                           'SHeteroFL 1.0-Net': 'SHeteroFL'}[n])\n",
    "agg = agg[agg['step'] <= 400]\n",
    "agg['wall time (min)'] = agg['_runtime'] / 60\n",
    "# agg"
   ]
  },
  {
   "cell_type": "code",
   "execution_count": null,
   "id": "vietnamese-greece",
   "metadata": {},
   "outputs": [],
   "source": [
    "agg['mode'] = agg['mode'].apply(lambda n: n if n!='RT' else r'FedAvg')\n",
    "\n",
    "fig, ax = plt.subplots(1, 1, figsize=(4,3))\n",
    "sns.lineplot(data=agg, x='step', y='val_acc', hue='mode')\n",
    "ax.set(ylabel='validation accuracy', xlabel='communication round',\n",
    "      title=f'{data}')\n",
    "if data == 'Cifar10_pct1':\n",
    "    ax.set(xlim=(0, 400), ylim=(0.5, 0.9), title='CIFAR10 100%')\n",
    "elif data == 'Cifar10_cniid':\n",
    "    ax.set(xlim=(0, 400), ylim=(0.2, 0.6), title='CIFAR10 class non-i.i.d')\n",
    "elif data == 'Digits':\n",
    "    ax.set(xlim=(0, 200), ylim=(0.5, 0.9))\n",
    "elif data == 'DomainNet':\n",
    "    ax.set(xlim=(0, 400), ylim=(0.2, 0.72))\n",
    "ax.grid(True)\n",
    "\n",
    "save_fig(f'{data.lower()}_val_acc_converg.pdf')\n",
    "\n",
    "plt.show()"
   ]
  },
  {
   "cell_type": "code",
   "execution_count": null,
   "id": "developmental-nigeria",
   "metadata": {},
   "outputs": [],
   "source": []
  }
 ],
 "metadata": {
  "kernelspec": {
   "display_name": "Python 3",
   "language": "python",
   "name": "python3"
  },
  "language_info": {
   "codemirror_mode": {
    "name": "ipython",
    "version": 3
   },
   "file_extension": ".py",
   "mimetype": "text/x-python",
   "name": "python",
   "nbconvert_exporter": "python",
   "pygments_lexer": "ipython3",
   "version": "3.7.5"
  }
 },
 "nbformat": 4,
 "nbformat_minor": 5
}
