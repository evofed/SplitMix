{
 "cells": [
  {
   "cell_type": "code",
   "execution_count": null,
   "id": "recent-elimination",
   "metadata": {},
   "outputs": [],
   "source": [
    "import os, sys\n",
    "import torch\n",
    "import pandas as pd\n",
    "import wandb\n",
    "import numpy as np\n",
    "from tqdm.notebook import tqdm\n",
    "import seaborn as sns\n",
    "import matplotlib.pyplot as plt\n",
    "from collections import defaultdict\n",
    "from IPython.display import display\n",
    "from scipy.stats import pearsonr"
   ]
  },
  {
   "cell_type": "code",
   "execution_count": null,
   "id": "accessible-barrel",
   "metadata": {},
   "outputs": [],
   "source": [
    "sns.set_style(\"ticks\")\n",
    "cmap = sns.color_palette()\n",
    "sns.set_palette(sns.color_palette())"
   ]
  },
  {
   "cell_type": "code",
   "execution_count": null,
   "id": "antique-hardwood",
   "metadata": {},
   "outputs": [],
   "source": [
    "cache_path = '../fig/'\n",
    "if not os.path.exists(cache_path):\n",
    "    os.makedirs(cache_path)"
   ]
  },
  {
   "cell_type": "markdown",
   "id": "knowing-covering",
   "metadata": {},
   "source": [
    "Experiment: `wandb sweep sweeps/ablation/digits_SplitMix_test.yaml`"
   ]
  },
  {
   "cell_type": "code",
   "execution_count": null,
   "id": "greenhouse-advertising",
   "metadata": {},
   "outputs": [],
   "source": [
    "sweep_ids = {\n",
    "    \"no track\": \"jyhong/SplitMix_release/sweeps/cpzoxxq9\",\n",
    "    \"no track + refresh BN\": \"jyhong/SplitMix_release/sweeps/2di8eygl\",\n",
    "    \"track + avg BN\": \"jyhong/SplitMix_release/sweeps/tr78ctgv\",\n",
    "    \"track + local BN\": \"jyhong/SplitMix_release/sweeps/x11krsq4\",\n",
    "}"
   ]
  },
  {
   "cell_type": "code",
   "execution_count": null,
   "id": "private-atlanta",
   "metadata": {},
   "outputs": [],
   "source": [
    "cfg_keys = ['test_slim_ratio', 'loss_temp', 'rescale_layer', 'rescale_init', 'no_track_stat',\n",
    "            'test_refresh_bn', 'lbn']\n",
    "df_dict = defaultdict(list)\n",
    "for sweep_name, sweep_id in sweep_ids.items():\n",
    "    print(f\"collect: {sweep_name}\")\n",
    "    api = wandb.Api()\n",
    "    sweep = api.sweep(sweep_id)\n",
    "    for run in sweep.runs:\n",
    "        if run.state != 'finished':\n",
    "            continue\n",
    "        for k in cfg_keys:\n",
    "            if k == 'test_refresh_bn' and k not in run.config:\n",
    "                df_dict[k].append(False)\n",
    "            elif k == 'lbn' and k not in run.config:\n",
    "                df_dict[k].append(False)\n",
    "            else:\n",
    "                df_dict[k].append(run.config[k])\n",
    "        k = 'avg test acc'\n",
    "        df_dict[k].append(run.summary[k])\n",
    "df = pd.DataFrame(df_dict)\n",
    "df = df.rename(columns={'no_track_stat': 'track_stat'})\n",
    "df['track_stat'] = ~df['track_stat']"
   ]
  },
  {
   "cell_type": "code",
   "execution_count": null,
   "id": "obvious-comparative",
   "metadata": {},
   "outputs": [],
   "source": [
    "# df[df['test_slim_ratio']==0.125]"
   ]
  },
  {
   "cell_type": "code",
   "execution_count": null,
   "id": "confident-costa",
   "metadata": {},
   "outputs": [],
   "source": [
    "df_ = df[(df['loss_temp'] == 'none')].drop(['loss_temp'], axis=1)\n",
    "df_ = df_.set_index(['test_slim_ratio', 'lbn', 'test_refresh_bn', 'track_stat', 'rescale_init', 'rescale_layer'])\n",
    "df_ = df_.unstack('test_slim_ratio').reset_index()\n",
    "# df_"
   ]
  },
  {
   "cell_type": "code",
   "execution_count": null,
   "id": "applicable-commitment",
   "metadata": {},
   "outputs": [],
   "source": [
    "def mark(b):\n",
    "    return r'\\cmark' if b else r'\\xmark'\n",
    "def bn_stat(track_stat, test_refresh_bn, lbn):\n",
    "    if track_stat:\n",
    "        if lbn:\n",
    "            return 'locally tracked'\n",
    "        else:\n",
    "            return 'tracked'\n",
    "    else:\n",
    "        if test_refresh_bn:\n",
    "            return 'post average'\n",
    "        else:\n",
    "            return 'batch average'\n",
    "def bn_max_text(acc, col, track_stat, test_refresh_bn, lbn):\n",
    "    if track_stat:\n",
    "        bn_max_acc = df_[(df_['track_stat']==track_stat) & (df_['lbn']==lbn)][col].max()\n",
    "    else:\n",
    "        bn_max_acc = df_[(df_['track_stat']==track_stat) & (df_['test_refresh_bn']==test_refresh_bn)][col].max()\n",
    "    col_max_acc = df_[col].max()\n",
    "    s = f\"{acc*100:.1f}\\%\"\n",
    "    if np.isclose(acc, col_max_acc, atol=0.001):\n",
    "        s = \"$\\mathbf{\"+s+\"}$\"\n",
    "    else:\n",
    "        s = \"$\"+s+\"$\"\n",
    "    if np.isclose(acc, bn_max_acc, atol=0.001):\n",
    "        s = '\\greycell ' + s\n",
    "    return s\n",
    "n_cond = len([c for c in df_.columns if c[1]==''])\n",
    "for i in range(len(df_)):\n",
    "#     print(df_.iloc[row])\n",
    "    row = df_.iloc[i]\n",
    "    accs = [bn_max_text(acc, df_.columns[j+n_cond],\n",
    "                       row[('track_stat', '')], row[('test_refresh_bn', '')], row[('lbn', '')]) \n",
    "            for j, acc in enumerate(row[n_cond:])]\n",
    "#     accs = [\"$\\mathbf{\"+f\"{acc*100:.1f}\\%\"+\"}$\" \n",
    "#             if np.isclose(v, df_[df_.columns[j+n_cond]].max(), atol=0.001) else f\"${acc*100:.1f}\\%$\"\n",
    "#             for j, acc in enumerate(row[n_cond:])]\n",
    "    cond_strs = []\n",
    "    cond_strs.append('%13s' % bn_stat(row[('track_stat', '')], row[('test_refresh_bn', '')], \n",
    "                                      row[('lbn', '')]))\n",
    "    for col in ['rescale_init', 'rescale_layer']:\n",
    "        cond_strs.append(mark(row[(col, '')]))\n",
    "    print(' & '.join(cond_strs) + ' & ' + ' & '.join(accs) + \" \\\\\\\\\")"
   ]
  },
  {
   "cell_type": "code",
   "execution_count": null,
   "id": "liberal-occupation",
   "metadata": {},
   "outputs": [],
   "source": []
  }
 ],
 "metadata": {
  "kernelspec": {
   "display_name": "Python 3",
   "language": "python",
   "name": "python3"
  },
  "language_info": {
   "codemirror_mode": {
    "name": "ipython",
    "version": 3
   },
   "file_extension": ".py",
   "mimetype": "text/x-python",
   "name": "python",
   "nbconvert_exporter": "python",
   "pygments_lexer": "ipython3",
   "version": "3.7.5"
  }
 },
 "nbformat": 4,
 "nbformat_minor": 5
}
