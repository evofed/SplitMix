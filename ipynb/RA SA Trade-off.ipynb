{
 "cells": [
  {
   "cell_type": "markdown",
   "id": "clean-passion",
   "metadata": {},
   "source": [
    "# RA/SA Trade-off curves"
   ]
  },
  {
   "cell_type": "code",
   "execution_count": null,
   "id": "pointed-phenomenon",
   "metadata": {},
   "outputs": [],
   "source": [
    "import os, sys\n",
    "import pandas as pd\n",
    "import wandb\n",
    "import numpy as np\n",
    "from tqdm.notebook import tqdm\n",
    "import seaborn as sns\n",
    "import matplotlib.pyplot as plt\n",
    "from collections import defaultdict\n",
    "from IPython.display import display"
   ]
  },
  {
   "cell_type": "code",
   "execution_count": null,
   "id": "based-breach",
   "metadata": {},
   "outputs": [],
   "source": [
    "sns.set_style(\"ticks\")\n",
    "cmap = sns.color_palette()\n",
    "sns.set_palette(sns.color_palette())\n",
    "plt.rc('axes', labelsize=12)"
   ]
  },
  {
   "cell_type": "code",
   "execution_count": null,
   "id": "reliable-driving",
   "metadata": {},
   "outputs": [],
   "source": [
    "cache_path = './fig/oat'\n",
    "if not os.path.exists(cache_path):\n",
    "    os.makedirs(cache_path)"
   ]
  },
  {
   "cell_type": "code",
   "execution_count": null,
   "id": "applied-pioneer",
   "metadata": {},
   "outputs": [],
   "source": [
    "def summarize_sweep(sweep, include_elapsed=False, acc_type='', app_keys=[]):\n",
    "    keys = [\"test_noise\"]+app_keys #, 'src_weight_mode' # ', \"noise\"\n",
    "    short_keys = keys\n",
    "    group_keys = keys\n",
    "    df_dict = defaultdict(list)\n",
    "    for run in sweep.runs:\n",
    "        if run.state != 'finished':\n",
    "            continue\n",
    "        flag_get_summary = False\n",
    "#         for summary_key in run.summary.keys():\n",
    "        summary_key = 'avg test acc'\n",
    "        df_dict[summary_key].append(run.summary[summary_key])\n",
    "        flag_get_summary = True\n",
    "        if flag_get_summary:\n",
    "            for k, sk in zip(keys, short_keys):\n",
    "                df_dict[sk].append(run.config[k])\n",
    "    if len(df_dict) <= 0:\n",
    "        return pd.DataFrame()\n",
    "    else:\n",
    "        return pd.DataFrame(df_dict).groupby(group_keys).mean()"
   ]
  },
  {
   "cell_type": "markdown",
   "id": "monetary-seating",
   "metadata": {},
   "source": [
    "## Cifar10"
   ]
  },
  {
   "cell_type": "code",
   "execution_count": null,
   "id": "vital-episode",
   "metadata": {},
   "outputs": [],
   "source": [
    "data = 'cifar10'\n",
    "sweep_id = {\n",
    "    'FedAvg': 'jyhong/SplitMix_release/sweeps/g8xmc74v',\n",
    "    'SplitMix': 'jyhong/SplitMix_release/sweeps/dsmxxbkc',\n",
    "    'OAT': 'jyhong/FOAL_AT_Cifar10/sweeps/znbftq21',\n",
    "}"
   ]
  },
  {
   "cell_type": "code",
   "execution_count": null,
   "id": "efficient-techno",
   "metadata": {},
   "outputs": [],
   "source": [
    "all_df = {}"
   ]
  },
  {
   "cell_type": "code",
   "execution_count": null,
   "id": "finnish-skirt",
   "metadata": {},
   "outputs": [],
   "source": [
    "for mode in sweep_id:\n",
    "    print(f'mode: {mode}')\n",
    "    api = wandb.Api()\n",
    "    sweep = api.sweep(sweep_id[mode])\n",
    "    app_keys=['adv_lmbd']\n",
    "    if mode != 'FedAvg':\n",
    "        app_keys += ['test_adv_lmbd']\n",
    "    df = summarize_sweep(sweep, app_keys=app_keys)\n",
    "    df['mode'] = mode\n",
    "    all_df[mode] = df"
   ]
  },
  {
   "cell_type": "code",
   "execution_count": null,
   "id": "proved-profession",
   "metadata": {},
   "outputs": [],
   "source": [
    "agg = pd.concat([df.reset_index() for _, df in all_df.items()], axis=0, ignore_index=True)\n",
    "agg = agg.reset_index().set_index(['test_noise']).rename(index={'LinfPGD': 'RA', 'none': 'SA'}).drop('index', axis=1)\n",
    "agg['mode'] = agg['mode'].apply(lambda n: n if n!='FedAvg' else 'FedAvg+AT')\n",
    "agg['mode'] = agg['mode'].apply(lambda n: n if n!='OAT' else 'FedAvg+OAT')\n",
    "agg['mode'] = agg['mode'].apply(lambda n: n if n!='SplitMix' else 'Split-Mix+DAT')\n",
    "# agg = agg.reset_index().set_index('test_noise') # .rename(index={'LinfPGD': 'RA', 'none': 'SA'})\n",
    "# agg"
   ]
  },
  {
   "cell_type": "code",
   "execution_count": null,
   "id": "every-loading",
   "metadata": {
    "scrolled": false
   },
   "outputs": [],
   "source": [
    "_df = agg.reset_index().set_index(['test_noise', 'mode', 'adv_lmbd', 'test_adv_lmbd']).unstack('test_noise').droplevel(0, axis=1)\n",
    "\n",
    "display(_df)\n",
    "\n",
    "fig, ax = plt.subplots(1, 1, figsize=(3,2.5))\n",
    "sns.lineplot(data=_df, y='RA', x='SA', marker='o', hue='mode')\n",
    "ax.grid(True)\n",
    "# ax.set(title='CIFAR10 100% AT')\n",
    "ax.set(xlim=(None, 0.91))\n",
    "ax.get_legend().remove()\n",
    "\n",
    "plt.tight_layout()\n",
    "out_file = os.path.join(cache_path, f'cifar10_ra_sa_tradeoff.pdf')\n",
    "print(f\"save fig => {out_file}\")\n",
    "plt.savefig(out_file)"
   ]
  },
  {
   "cell_type": "markdown",
   "id": "temporal-stamp",
   "metadata": {},
   "source": [
    "## Digits All noised"
   ]
  },
  {
   "cell_type": "code",
   "execution_count": null,
   "id": "polish-marijuana",
   "metadata": {},
   "outputs": [],
   "source": [
    "data = 'digits'\n",
    "sweep_id = {\n",
    "    'FedAvg': 'jyhong/SplitMix_release/sweeps/d3gmza1k',\n",
    "    'OAT': 'jyhong/FOAL_Digits_bmk/sweeps/xepuell2',\n",
    "    'SplitMix': 'jyhong/SplitMix_release/sweeps/zql6s714',  # lbn\n",
    "}"
   ]
  },
  {
   "cell_type": "code",
   "execution_count": null,
   "id": "israeli-plate",
   "metadata": {},
   "outputs": [],
   "source": [
    "all_df = {}"
   ]
  },
  {
   "cell_type": "code",
   "execution_count": null,
   "id": "official-principal",
   "metadata": {},
   "outputs": [],
   "source": [
    "# for mode in ['FedAvg', 'OAT']:  # 'SplitMix'\n",
    "for mode in ['FedAvg', 'OAT', 'SplitMix']:  # \n",
    "    print(f'mode: {mode}')\n",
    "    api = wandb.Api()\n",
    "    sweep = api.sweep(sweep_id[mode])\n",
    "    app_keys=['adv_lmbd']\n",
    "    if mode != 'FedAvg':\n",
    "        app_keys += ['test_adv_lmbd']\n",
    "    df = summarize_sweep(sweep, app_keys=app_keys)\n",
    "    df['mode'] = mode\n",
    "    all_df[mode] = df"
   ]
  },
  {
   "cell_type": "code",
   "execution_count": null,
   "id": "active-winner",
   "metadata": {},
   "outputs": [],
   "source": [
    "agg = pd.concat([df.reset_index() for _, df in all_df.items()], axis=0, ignore_index=True)\n",
    "agg = agg.reset_index().set_index(['test_noise']).rename(index={'LinfPGD': 'RA', 'none': 'SA'}).drop('index', axis=1)\n",
    "agg['mode'] = agg['mode'].apply(lambda n: n if n!='FedAvg' else 'FedAvg+AT')\n",
    "agg['mode'] = agg['mode'].apply(lambda n: n if n!='OAT' else 'FedAvg+OAT')\n",
    "# agg = agg.reset_index().set_index('test_noise') # .rename(index={'LinfPGD': 'RA', 'none': 'SA'})\n",
    "# agg['mode'] = agg['mode'].apply(lambda n: n if n!='RT' else 'FedAvg')\n",
    "agg['mode'] = agg['mode'].apply(lambda n: n if n!='SplitMix' else 'Split-Mix+DAT')\n",
    "# agg"
   ]
  },
  {
   "cell_type": "code",
   "execution_count": null,
   "id": "starting-playlist",
   "metadata": {},
   "outputs": [],
   "source": [
    "_df = agg.reset_index().set_index(['test_noise', 'mode', 'adv_lmbd', \n",
    "                                   'test_adv_lmbd']).unstack('test_noise').droplevel(0, axis=1)\n",
    "\n",
    "display(_df)\n",
    "\n",
    "fig, ax = plt.subplots(1, 1, figsize=(3,2.5))\n",
    "sns.lineplot(data=_df, y='RA', x='SA', marker='o', hue='mode', sort=False)\n",
    "ax.axvline(_df['SA'].max(), linestyle='--', alpha=0.5)\n",
    "ax.axhline(_df['RA'].max(), linestyle='--', alpha=0.5)\n",
    "ax.set(ylabel='', ylim=(0.45, 0.66),)\n",
    "#       yticks=[0.55, 0.6, 0.65]) # , title=data)\n",
    "ax.grid(True)\n",
    "# ax.set(title='Digits 100% AT')\n",
    "\n",
    "plt.tight_layout()\n",
    "out_file = os.path.join(cache_path, f'{data}_ra_sa_tradeoff.pdf')\n",
    "print(f\"save fig => {out_file}\")\n",
    "plt.savefig(out_file)"
   ]
  },
  {
   "cell_type": "code",
   "execution_count": null,
   "id": "shaped-scientist",
   "metadata": {},
   "outputs": [],
   "source": []
  }
 ],
 "metadata": {
  "kernelspec": {
   "display_name": "Python 3",
   "language": "python",
   "name": "python3"
  },
  "language_info": {
   "codemirror_mode": {
    "name": "ipython",
    "version": 3
   },
   "file_extension": ".py",
   "mimetype": "text/x-python",
   "name": "python",
   "nbconvert_exporter": "python",
   "pygments_lexer": "ipython3",
   "version": "3.7.5"
  }
 },
 "nbformat": 4,
 "nbformat_minor": 5
}
