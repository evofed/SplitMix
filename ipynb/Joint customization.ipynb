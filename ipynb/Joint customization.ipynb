{
 "cells": [
  {
   "cell_type": "code",
   "execution_count": null,
   "id": "intelligent-sellers",
   "metadata": {},
   "outputs": [],
   "source": [
    "import os, sys\n",
    "import pandas as pd\n",
    "import wandb\n",
    "import numpy as np\n",
    "from tqdm.notebook import tqdm\n",
    "import seaborn as sns\n",
    "import matplotlib.pyplot as plt\n",
    "from collections import defaultdict\n",
    "from IPython.display import display"
   ]
  },
  {
   "cell_type": "code",
   "execution_count": null,
   "id": "expensive-trial",
   "metadata": {},
   "outputs": [],
   "source": [
    "sns.set_style(\"ticks\")\n",
    "cmap = sns.color_palette()\n",
    "sns.set_palette(sns.color_palette())\n",
    "plt.rc('axes', labelsize=12)"
   ]
  },
  {
   "cell_type": "code",
   "execution_count": null,
   "id": "removed-tradition",
   "metadata": {},
   "outputs": [],
   "source": [
    "cache_path = './fig/joint'\n",
    "if not os.path.exists(cache_path):\n",
    "    os.makedirs(cache_path)"
   ]
  },
  {
   "cell_type": "code",
   "execution_count": null,
   "id": "confident-christmas",
   "metadata": {},
   "outputs": [],
   "source": [
    "def fetch_config_summary(runs, config_keys, summary_keys):\n",
    "    df_dict = defaultdict(list)\n",
    "    for run in runs:\n",
    "        if run.state != 'finished':\n",
    "            print(f\"Non-fin run w/ stat: {run.state}\")\n",
    "        missing_sum_key = []\n",
    "        for k in summary_keys:\n",
    "            if k in run.summary:\n",
    "                h = run.summary[k]\n",
    "                df_dict[k].append(h)\n",
    "            else:\n",
    "                missing_sum_key.append(k)\n",
    "                break\n",
    "        if len(missing_sum_key) > 0:\n",
    "            print(f\"missing key: {missing_sum_key}\")\n",
    "            continue\n",
    "        for k in config_keys:\n",
    "            if k == 'adv_lmbd' and k not in run.config:\n",
    "                df_dict[k].append(False)\n",
    "            elif k == 'test_noise' and k not in run.config:\n",
    "                df_dict[k].append('none')\n",
    "            else:\n",
    "                df_dict[k].append(run.config[k])\n",
    "    return df_dict"
   ]
  },
  {
   "cell_type": "code",
   "execution_count": null,
   "id": "tough-gilbert",
   "metadata": {},
   "outputs": [],
   "source": [
    "all_df_dict = {}"
   ]
  },
  {
   "cell_type": "markdown",
   "id": "occupied-limit",
   "metadata": {},
   "source": [
    "# DomainNet"
   ]
  },
  {
   "cell_type": "code",
   "execution_count": null,
   "id": "attempted-integer",
   "metadata": {},
   "outputs": [],
   "source": [
    "data = 'DomainNet'\n",
    "domains = ['clipart', 'infograph', 'painting', 'quickdraw', 'real', 'sketch']\n",
    "\n",
    "sweep_dict = {\n",
    "    'FedAvg': \"jyhong/SplitMix_release/sweeps/tft5h80j\",\n",
    "    'SplitMix': \"jyhong/SplitMix_release/sweeps/ctuur0ey\",\n",
    "}"
   ]
  },
  {
   "cell_type": "markdown",
   "id": "decreased-audio",
   "metadata": {},
   "source": [
    "## FedAvg"
   ]
  },
  {
   "cell_type": "code",
   "execution_count": null,
   "id": "geological-render",
   "metadata": {},
   "outputs": [],
   "source": [
    "mode = 'FedAvg'\n",
    "api = wandb.Api()\n",
    "sweep = api.sweep(sweep_dict[mode])"
   ]
  },
  {
   "cell_type": "code",
   "execution_count": null,
   "id": "spread-darkness",
   "metadata": {},
   "outputs": [],
   "source": [
    "df_dict = fetch_config_summary(\n",
    "    sweep.runs,\n",
    "    config_keys = ['width_scale', 'adv_lmbd', 'test_noise'], \n",
    "    summary_keys = ['avg test acc']\n",
    ")\n",
    "df = pd.DataFrame(df_dict)\n",
    "\n",
    "df['test_noise'] = df['test_noise'].apply(lambda n: {'LinfPGD':'RA', 'none':'SA'}[n])\n",
    "df = df.groupby(['width_scale', 'adv_lmbd', 'test_noise']).mean()\n",
    "df = df.unstack('test_noise')\n",
    "df = df.droplevel(0, axis=1)\n",
    "df"
   ]
  },
  {
   "cell_type": "code",
   "execution_count": null,
   "id": "crucial-relevance",
   "metadata": {},
   "outputs": [],
   "source": [
    "df_ = df.reset_index()\n",
    "df_['mode'] = mode\n",
    "df_ = df_.rename(columns={'width_scale': 'width'})\n",
    "all_df_dict[mode] = df_[df_['width']==0.125]\n",
    "fig, ax = plt.subplots(1, 1, figsize=(4,3))\n",
    "sns.lineplot(data=df_, x='SA', y='RA', hue='width', marker='o')\n",
    "ax.set()\n",
    "ax.grid(True)\n",
    "\n",
    "# plt.tight_layout()\n",
    "# out_file = os.path.join(cache_path, f'{data}_domain_joint.pdf')\n",
    "# print(f\"save fig => {out_file}\")\n",
    "# plt.savefig(out_file)\n",
    "\n",
    "plt.show()"
   ]
  },
  {
   "cell_type": "markdown",
   "id": "stylish-freight",
   "metadata": {},
   "source": [
    "## SplitMix"
   ]
  },
  {
   "cell_type": "code",
   "execution_count": null,
   "id": "standard-revision",
   "metadata": {},
   "outputs": [],
   "source": [
    "mode = 'SplitMix'\n",
    "api = wandb.Api()\n",
    "sweep = api.sweep(sweep_dict[mode])"
   ]
  },
  {
   "cell_type": "code",
   "execution_count": null,
   "id": "allied-oasis",
   "metadata": {},
   "outputs": [],
   "source": [
    "df_dict = fetch_config_summary(\n",
    "    sweep.runs,\n",
    "    config_keys = ['test_slim_ratio', 'test_adv_lmbd', 'test_noise'], \n",
    "    summary_keys = ['avg test acc']\n",
    ")\n",
    "df = pd.DataFrame(df_dict)\n",
    "# df['mode'] = mode\n",
    "# # df['slim_ratio'] = df['slim_ratio'] * 100\n",
    "# df['width'] = df['slim_ratio']\n",
    "\n",
    "\n",
    "# df = rearrange_by_domain(df)\n",
    "# all_df[mode] = df\n",
    "# # agg_df_dict[mode] = df  # [df['slim_ratio'] == 1.0]\n",
    "df['test_noise'] = df['test_noise'].apply(lambda n: {'LinfPGD':'RA', 'none':'SA'}[n])\n",
    "df = df.groupby(['test_slim_ratio', 'test_adv_lmbd', 'test_noise']).mean()\n",
    "df = df.unstack('test_noise')\n",
    "df = df.droplevel(0, axis=1)\n",
    "\n",
    "df"
   ]
  },
  {
   "cell_type": "code",
   "execution_count": null,
   "id": "approximate-egyptian",
   "metadata": {},
   "outputs": [],
   "source": [
    "df_ = df.reset_index().rename(columns={'test_slim_ratio': 'width'})\n",
    "df_['mode'] = mode\n",
    "all_df_dict[mode] = df_\n",
    "\n",
    "fig, ax = plt.subplots(1, 1, figsize=(4,3))\n",
    "sns.lineplot(data=df_, x='SA', y='RA', hue='width', marker='o')\n",
    "ax.set()\n",
    "ax.grid(True)\n",
    "\n",
    "# plt.tight_layout()\n",
    "# out_file = os.path.join(cache_path, f'{data}_domain_joint.pdf')\n",
    "# print(f\"save fig => {out_file}\")\n",
    "# plt.savefig(out_file)\n",
    "\n",
    "plt.show()"
   ]
  },
  {
   "cell_type": "markdown",
   "id": "renewable-geography",
   "metadata": {},
   "source": [
    "## Aggregate"
   ]
  },
  {
   "cell_type": "code",
   "execution_count": null,
   "id": "considerable-applicant",
   "metadata": {},
   "outputs": [],
   "source": [
    "agg = pd.concat([all_df_dict[k] for k in all_df_dict], ignore_index=True)\n",
    "agg['mode'] = agg['mode'].apply(lambda n: n if n!='RT' else 'FedAvg+AT')\n",
    "agg['mode'] = agg['mode'].apply(lambda n: n if n!='SplitMix' else 'SplitMixDAT')"
   ]
  },
  {
   "cell_type": "code",
   "execution_count": null,
   "id": "ordinary-wheel",
   "metadata": {},
   "outputs": [],
   "source": [
    "df_ = agg\n",
    "\n",
    "fig, ax = plt.subplots(1, 1, figsize=(3,2.5))\n",
    "sns.lineplot(data=df_, x='SA', y='RA', hue='width', marker='o',\n",
    "            style='mode')\n",
    "cmap = plt.get_cmap()\n",
    "# ax.axvline(df_[df_['mode']=='FedAvg']['SA'].max(), linestyle='--', alpha=1., color=cmap.colors[10])\n",
    "# ax.axhline(df_[df_['mode']=='FedAvg']['RA'].max(), linestyle='--', color=cmap.colors[3])\n",
    "ax.set(xlim=(.42, 0.64), ylim=(0.05, 0.46),\n",
    "      yticks=[0.05, 0.25, 0.3, 0.35, 0.4, 0.45], ylabel='') # , title=data)\n",
    "ax.grid(True)\n",
    "legend = ax.get_legend()\n",
    "legend.get_frame().set(alpha=0.1)\n",
    "\n",
    "plt.tight_layout()\n",
    "out_file = os.path.join(cache_path, f'{data}_joint.pdf')\n",
    "print(f\"save fig => {out_file}\")\n",
    "plt.savefig(out_file)\n",
    "\n",
    "plt.show()"
   ]
  },
  {
   "cell_type": "markdown",
   "id": "employed-southeast",
   "metadata": {},
   "source": [
    "# CIFAR10"
   ]
  },
  {
   "cell_type": "code",
   "execution_count": null,
   "id": "complimentary-vessel",
   "metadata": {},
   "outputs": [],
   "source": [
    "data = 'CIFAR10'\n",
    "domains = ['cifar10']\n",
    "\n",
    "sweep_dict = {\n",
    "#     'RT': \"jyhong/FOAL_AT_Cifar10/sweeps/75rvm0co\",\n",
    "#     \"RT 1.0-Net\": \"jyhong/FOAL_AT_Cifar10/sweeps/smank7jt\",\n",
    "#     \"RT slim lmbd0\": \"jyhong/FOAL_slimmable_Cifar10/sweeps/10igr3ul\",\n",
    "#     'SplitMix': \"jyhong/FOAL_AT_Cifar10/sweeps/kgm6e7k7\",  # 220 epochs\n",
    "#     'FedAvg lmbd0': \"jyhong/SplitMix_release/sweeps/d6ua8kbt\",\n",
    "#     'FedAvg x0.5, x1': \"jyhong/SplitMix_release/sweeps/4mv1qxnp\",\n",
    "#     'SplitMix': \"jyhong/SplitMix_release/sweeps/tdzwg05m\",  # 230 epochs\n",
    "    'FedAvg x0.5, x1': \"jyhong/SplitMix_release/sweeps/g8xmc74v\",\n",
    "    'SplitMix': \"jyhong/SplitMix_release/sweeps/d26ifudn\",\n",
    "}\n",
    "all_df_dict = {}"
   ]
  },
  {
   "cell_type": "markdown",
   "id": "pointed-geneva",
   "metadata": {},
   "source": [
    "## FedAvg"
   ]
  },
  {
   "cell_type": "code",
   "execution_count": null,
   "id": "inappropriate-hacker",
   "metadata": {},
   "outputs": [],
   "source": [
    "mode = 'FedAvg x0.5, x1'\n",
    "api = wandb.Api()\n",
    "sweep = api.sweep(sweep_dict[mode])\n",
    "\n",
    "df_dict = fetch_config_summary(\n",
    "    sweep.runs,\n",
    "    config_keys = ['width_scale', 'adv_lmbd', 'test_noise'], \n",
    "    summary_keys = ['avg test acc']\n",
    ")\n",
    "df = pd.DataFrame(df_dict)\n",
    "df['test_noise'] = df['test_noise'].apply(lambda n: {'LinfPGD':'RA', 'none':'SA'}[n])\n",
    "# df['width_scale'] = 1.\n",
    "df = df.groupby(['width_scale', 'adv_lmbd', 'test_noise']).mean()\n",
    "df = df.unstack('test_noise')\n",
    "df = df.droplevel(0, axis=1)\n",
    "df_1net = df\n",
    "df_1net"
   ]
  },
  {
   "cell_type": "code",
   "execution_count": null,
   "id": "surface-shoot",
   "metadata": {},
   "outputs": [],
   "source": [
    "df_ = df.reset_index()\n",
    "df_['mode'] = 'FedAvg'\n",
    "df_ = df_.rename(columns={'width_scale': 'width'})\n",
    "all_df_dict[mode] = df_[df_['width']==0.125]\n",
    "fig, ax = plt.subplots(1, 1, figsize=(4,3))\n",
    "sns.lineplot(data=df_, x='SA', y='RA', hue='width', marker='o')\n",
    "ax.set()\n",
    "ax.grid(True)\n",
    "\n",
    "# plt.tight_layout()\n",
    "# out_file = os.path.join(cache_path, f'{data}_domain_joint.pdf')\n",
    "# print(f\"save fig => {out_file}\")\n",
    "# plt.savefig(out_file)\n",
    "\n",
    "plt.show()"
   ]
  },
  {
   "cell_type": "markdown",
   "id": "blessed-cotton",
   "metadata": {},
   "source": [
    "## SplitMix"
   ]
  },
  {
   "cell_type": "code",
   "execution_count": null,
   "id": "guided-attention",
   "metadata": {},
   "outputs": [],
   "source": [
    "mode = 'SplitMix'\n",
    "api = wandb.Api()\n",
    "sweep = api.sweep(sweep_dict[mode])"
   ]
  },
  {
   "cell_type": "code",
   "execution_count": null,
   "id": "confused-harrison",
   "metadata": {},
   "outputs": [],
   "source": [
    "df_dict = fetch_config_summary(\n",
    "    sweep.runs,\n",
    "    config_keys = ['test_slim_ratio', 'test_adv_lmbd', 'test_noise'], \n",
    "    summary_keys = ['avg test acc']\n",
    ")\n",
    "df = pd.DataFrame(df_dict)\n",
    "# df['mode'] = mode\n",
    "# # df['slim_ratio'] = df['slim_ratio'] * 100\n",
    "# df['width'] = df['slim_ratio']\n",
    "\n",
    "# df = rearrange_by_domain(df)\n",
    "# all_df[mode] = df\n",
    "# # agg_df_dict[mode] = df  # [df['slim_ratio'] == 1.0]\n",
    "df['test_noise'] = df['test_noise'].apply(lambda n: {'LinfPGD':'RA', 'none':'SA'}[n])\n",
    "df = df.groupby(['test_slim_ratio', 'test_adv_lmbd', 'test_noise']).mean()\n",
    "df = df.unstack('test_noise')\n",
    "df = df.droplevel(0, axis=1)\n",
    "df"
   ]
  },
  {
   "cell_type": "code",
   "execution_count": null,
   "id": "metric-cartoon",
   "metadata": {},
   "outputs": [],
   "source": [
    "df_ = df.reset_index().rename(columns={'test_slim_ratio': 'width'})\n",
    "df_['mode'] = mode\n",
    "all_df_dict[mode] = df_\n",
    "\n",
    "fig, ax = plt.subplots(1, 1, figsize=(4,3))\n",
    "sns.lineplot(data=df_, x='SA', y='RA', hue='width', marker='o')\n",
    "ax.set()\n",
    "ax.grid(True)\n",
    "\n",
    "plt.show()"
   ]
  },
  {
   "cell_type": "markdown",
   "id": "posted-check",
   "metadata": {},
   "source": [
    "## Aggregate"
   ]
  },
  {
   "cell_type": "code",
   "execution_count": null,
   "id": "fantastic-comfort",
   "metadata": {},
   "outputs": [],
   "source": [
    "agg = pd.concat([all_df_dict[k] for k in all_df_dict], ignore_index=True)\n",
    "agg['mode'] = agg['mode'].apply(lambda n: n if n!='RT' else 'FedAvg+AT')"
   ]
  },
  {
   "cell_type": "code",
   "execution_count": null,
   "id": "registered-glasgow",
   "metadata": {},
   "outputs": [],
   "source": [
    "agg"
   ]
  },
  {
   "cell_type": "code",
   "execution_count": null,
   "id": "missing-newfoundland",
   "metadata": {},
   "outputs": [],
   "source": [
    "df_ = agg\n",
    "\n",
    "fig, ax = plt.subplots(1, 1, figsize=(3,2.5))\n",
    "sns.lineplot(data=df_, x='SA', y='RA', hue='width', marker='o',\n",
    "            style='mode')\n",
    "ax.set(ylabel='')\n",
    "legend = ax.get_legend()\n",
    "ax.get_legend().remove()\n",
    "ax.grid(True)\n",
    "\n",
    "plt.tight_layout()\n",
    "out_file = os.path.join(cache_path, f'{data}_joint.pdf')\n",
    "print(f\"save fig => {out_file}\")\n",
    "plt.savefig(out_file)\n",
    "\n",
    "plt.show()"
   ]
  },
  {
   "cell_type": "code",
   "execution_count": null,
   "id": "anonymous-wrong",
   "metadata": {},
   "outputs": [],
   "source": []
  }
 ],
 "metadata": {
  "kernelspec": {
   "display_name": "Python 3",
   "language": "python",
   "name": "python3"
  },
  "language_info": {
   "codemirror_mode": {
    "name": "ipython",
    "version": 3
   },
   "file_extension": ".py",
   "mimetype": "text/x-python",
   "name": "python",
   "nbconvert_exporter": "python",
   "pygments_lexer": "ipython3",
   "version": "3.7.5"
  }
 },
 "nbformat": 4,
 "nbformat_minor": 5
}
