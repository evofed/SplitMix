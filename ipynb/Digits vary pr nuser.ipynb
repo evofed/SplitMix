{
 "cells": [
  {
   "cell_type": "markdown",
   "id": "together-emphasis",
   "metadata": {},
   "source": [
    "We aim to evaluate the methods in different pr_nuser (#user per round)."
   ]
  },
  {
   "cell_type": "code",
   "execution_count": null,
   "id": "selected-brighton",
   "metadata": {},
   "outputs": [],
   "source": [
    "import os, sys\n",
    "import pandas as pd\n",
    "import wandb\n",
    "import numpy as np\n",
    "from tqdm.notebook import tqdm\n",
    "import seaborn as sns\n",
    "import matplotlib.pyplot as plt\n",
    "from collections import defaultdict\n",
    "from IPython.display import display"
   ]
  },
  {
   "cell_type": "code",
   "execution_count": null,
   "id": "aware-interim",
   "metadata": {},
   "outputs": [],
   "source": [
    "sns.set_style(\"ticks\")\n",
    "cmap = sns.color_palette()\n",
    "sns.set_palette(sns.color_palette())"
   ]
  },
  {
   "cell_type": "code",
   "execution_count": null,
   "id": "authorized-peripheral",
   "metadata": {},
   "outputs": [],
   "source": [
    "cache_path = './fig/flops_acc_curve'\n",
    "if not os.path.exists(cache_path):\n",
    "    os.makedirs(cache_path)"
   ]
  },
  {
   "cell_type": "code",
   "execution_count": null,
   "id": "parental-appraisal",
   "metadata": {},
   "outputs": [],
   "source": [
    "data = 'Digits'\n",
    "\n",
    "sweep_dict = {\n",
    "    'SplitMix': 'jyhong/SplitMix_release/sweeps/80ewd3yq',\n",
    "    'SHeteroFL': 'jyhong/SplitMix_release/sweeps/0qjd6qdr',\n",
    "}"
   ]
  },
  {
   "cell_type": "code",
   "execution_count": null,
   "id": "mathematical-butterfly",
   "metadata": {},
   "outputs": [],
   "source": [
    "agg_df_dict = {}"
   ]
  },
  {
   "cell_type": "code",
   "execution_count": null,
   "id": "dimensional-pound",
   "metadata": {},
   "outputs": [],
   "source": [
    "def get_slimmabe_ratios(mode: str):\n",
    "    ps = mode.split('-')\n",
    "    slimmable_ratios = []\n",
    "    for p in ps:\n",
    "        if 'd' in p:\n",
    "            p, q = p.split('d')  # p: 1/p-net; q: weight of the net in samples\n",
    "            p, q = int(p), int(q)\n",
    "            p = p * 1. / q\n",
    "        else:\n",
    "            p = int(p)\n",
    "        slimmable_ratios.append(1. / p)\n",
    "#     print(f\"Set slim ratios: {self.slimmable_ratios} by mode: {mode}\")\n",
    "    return slimmable_ratios"
   ]
  },
  {
   "cell_type": "code",
   "execution_count": null,
   "id": "clinical-accounting",
   "metadata": {},
   "outputs": [],
   "source": [
    "def fetch_config_summary(runs, config_keys, summary_keys):\n",
    "    df_dict = defaultdict(list)\n",
    "    for run in runs:\n",
    "        if run.state != 'finished':\n",
    "            print(\"WARN: run not finished yet\")\n",
    "        history_len = 0\n",
    "        missing_sum_key = []\n",
    "        for k in summary_keys:\n",
    "            if k in run.summary:\n",
    "                h = run.summary[k]\n",
    "                df_dict[k].append(h)\n",
    "            else:\n",
    "                missing_sum_key.append(k)\n",
    "                break\n",
    "        if len(missing_sum_key) > 0:\n",
    "            print(f\"missing key: {missing_sum_key}\")\n",
    "            continue\n",
    "        for k in config_keys:\n",
    "            df_dict[k].append(run.config[k])\n",
    "    return df_dict"
   ]
  },
  {
   "cell_type": "markdown",
   "id": "powered-mountain",
   "metadata": {},
   "source": [
    "## (S)HeteroFL"
   ]
  },
  {
   "cell_type": "code",
   "execution_count": null,
   "id": "forced-import",
   "metadata": {
    "scrolled": true
   },
   "outputs": [],
   "source": [
    "# for mode in ['SHeteroFL pr nuser', 'SHeteroFL pr nuser=-1']:\n",
    "for mode in ['SHeteroFL']:\n",
    "    api = wandb.Api()\n",
    "    sweep = api.sweep(sweep_dict[mode])\n",
    "    df_dict = fetch_config_summary(\n",
    "        sweep.runs,\n",
    "        config_keys = ['test_slim_ratio', 'pr_nuser'], \n",
    "        summary_keys = ['avg test acc', 'GFLOPs', 'model size (MB)']\n",
    "    )\n",
    "    # del_idxs = []\n",
    "    # for idx in range(len(df_dict['slim_ratios'])):\n",
    "    #     slim_ratios = get_slimmabe_ratios(df_dict['slim_ratios'][idx])\n",
    "        # print(df_dict['slim_ratios'][idx], slim_ratios)\n",
    "    #     if df_dict['test_slim_ratio'][idx] not in slim_ratios:\n",
    "    #         # print(\"del\", idx, df_dict['test_slim_ratio'][idx])\n",
    "    #         del_idxs.append(idx)\n",
    "    # for k in df_dict:\n",
    "    #     df_dict[k] = [v for i, v in enumerate(df_dict[k]) if i not in del_idxs]\n",
    "    df = pd.DataFrame(df_dict)\n",
    "    df['test_slim_ratio'] = df['test_slim_ratio'] * 100\n",
    "    df['width'] = df['test_slim_ratio']\n",
    "    df['pr_nuser'] = df['pr_nuser'].apply(lambda pn: pn if pn > 0 else 50)\n",
    "\n",
    "    df['mode'] = mode\n",
    "    agg_df_dict[mode] = df  # [df['slim_sch'] == 'group_slimmable']"
   ]
  },
  {
   "cell_type": "code",
   "execution_count": null,
   "id": "streaming-marathon",
   "metadata": {
    "scrolled": true
   },
   "outputs": [],
   "source": [
    "sns.lineplot(data=df, x='width', y='avg test acc', hue='pr_nuser', marker='o')\n",
    "plt.grid(True)"
   ]
  },
  {
   "cell_type": "markdown",
   "id": "opponent-spain",
   "metadata": {},
   "source": [
    "## Split-Mix 0.125atom"
   ]
  },
  {
   "cell_type": "code",
   "execution_count": null,
   "id": "colored-january",
   "metadata": {
    "scrolled": true
   },
   "outputs": [],
   "source": [
    "for mode in ['SplitMix']:\n",
    "    # 'SplitMix step=0.25 non-exp'\n",
    "    api = wandb.Api()\n",
    "    sweep = api.sweep(sweep_dict[mode])\n",
    "\n",
    "    print(f\"mode: {mode}\")\n",
    "    api = wandb.Api()\n",
    "    sweep = api.sweep(sweep_dict[mode])\n",
    "\n",
    "    df_dict = fetch_config_summary(\n",
    "        sweep.runs,\n",
    "        config_keys = ['test_slim_ratio', 'pr_nuser'], \n",
    "        summary_keys = ['avg test acc', 'GFLOPs', 'model size (MB)']\n",
    "    )\n",
    "    df = pd.DataFrame(df_dict)\n",
    "    df['mode'] = 'SplitMix'\n",
    "    df['test_slim_ratio'] = df['test_slim_ratio'] * 100\n",
    "    df['width'] = df['test_slim_ratio']\n",
    "    df['pr_nuser'] = df['pr_nuser'].apply(lambda pn: pn if pn > 0 else 50)\n",
    "    if ' ex' in mode:\n",
    "        df = df[df['pr_nuser'] > 10]\n",
    "    agg_df_dict[mode] = df"
   ]
  },
  {
   "cell_type": "code",
   "execution_count": null,
   "id": "instant-uruguay",
   "metadata": {},
   "outputs": [],
   "source": [
    "# df_ = df[df['pr_nuser'] >= 10]\n",
    "df_ = df\n",
    "\n",
    "fig, ax = plt.subplots(1, 1)\n",
    "# for slim_ratio, val_accs in zip(df_dict['slim_ratio'], df_dict['val_acc']):\n",
    "#     plt.plot(val_accs)\n",
    "sns.lineplot(data=df_, x='width', y='avg test acc', marker='o', hue='pr_nuser')\n",
    "ax.set(xticks=df['test_slim_ratio'].unique())\n",
    "# ax.set(xlim=(0, 150), ylim=(0.3, 0.9))\n",
    "ax.grid(True)"
   ]
  },
  {
   "cell_type": "markdown",
   "id": "prospective-walter",
   "metadata": {},
   "source": [
    "## Aggregation"
   ]
  },
  {
   "cell_type": "code",
   "execution_count": null,
   "id": "shared-space",
   "metadata": {},
   "outputs": [],
   "source": [
    "cmap = sns.color_palette(as_cmap=True)\n",
    "len(cmap)"
   ]
  },
  {
   "cell_type": "markdown",
   "id": "earlier-saturday",
   "metadata": {},
   "source": [
    "more budget-sufficient clients"
   ]
  },
  {
   "cell_type": "code",
   "execution_count": null,
   "id": "completed-margin",
   "metadata": {},
   "outputs": [],
   "source": [
    "agg = pd.concat([v for k, v in agg_df_dict.items()])\n",
    "agg = agg.reset_index()\n",
    "agg = agg[np.isin(agg['pr_nuser'], [2,5, 20, 50])]\n",
    "agg['avg test acc'] = agg['avg test acc'] * 100\n",
    "agg['MFLOPs'] = agg['GFLOPs'] * 1e3\n",
    "agg['method'] = agg['mode'].apply(lambda n: n if n != 'RT' else 'Ind. FedAvg')\n",
    "agg['#user/round'] = agg['pr_nuser'] # .apply(lambda n: (n.replace('d', '/')) if '-' in n else n)\n",
    "# agg = agg[agg['slim_ratios'].apply(lambda n: 'd' not in n)]\n",
    "\n",
    "fig, ax = plt.subplots(1, 1, figsize=(5,3))\n",
    "sns.lineplot(data=agg, x='width', y='avg test acc', marker='o', style='method', hue='#user/round',\n",
    "            style_order=['SplitMix', 'SHeteroFL'], palette=cmap[:len(agg['#user/round'].unique())])  # 'Ind. FedAvg', \n",
    "ax.set(xticks=agg['width'].unique(), ylabel='average test accuracy (%)',\n",
    "      xlabel='width (%)')\n",
    "ax.legend(loc='center left', bbox_to_anchor=(1, 0.5))\n",
    "ax.grid(True)\n",
    "\n",
    "plt.tight_layout()\n",
    "out_file = os.path.join(cache_path, f'Digits_pr_nuser.pdf')\n",
    "print(f\"save fig => {out_file}\")\n",
    "plt.savefig(out_file)\n",
    "\n",
    "plt.show()"
   ]
  },
  {
   "cell_type": "code",
   "execution_count": null,
   "id": "alike-night",
   "metadata": {},
   "outputs": [],
   "source": []
  }
 ],
 "metadata": {
  "kernelspec": {
   "display_name": "Python 3",
   "language": "python",
   "name": "python3"
  },
  "language_info": {
   "codemirror_mode": {
    "name": "ipython",
    "version": 3
   },
   "file_extension": ".py",
   "mimetype": "text/x-python",
   "name": "python",
   "nbconvert_exporter": "python",
   "pygments_lexer": "ipython3",
   "version": "3.7.5"
  }
 },
 "nbformat": 4,
 "nbformat_minor": 5
}
